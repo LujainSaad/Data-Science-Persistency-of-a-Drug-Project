{
 "cells": [
  {
   "cell_type": "code",
   "execution_count": 61,
   "id": "861784ad",
   "metadata": {},
   "outputs": [],
   "source": [
    "#import necessary modules\n",
    "import pandas as pd\n",
    "import numpy as np\n",
    "import matplotlib.pyplot as plt\n",
    "import seaborn as sns"
   ]
  },
  {
   "cell_type": "code",
   "execution_count": 2,
   "id": "9c9b529c",
   "metadata": {},
   "outputs": [],
   "source": [
    "df_healthcare = pd.read_excel(\"/Users/PKLAT/Desktop/Edureka/ML Practice/Healthcare_dataset.xlsx\", sheet_name='Dataset')"
   ]
  },
  {
   "cell_type": "code",
   "execution_count": 3,
   "id": "587919f6",
   "metadata": {},
   "outputs": [
    {
     "data": {
      "text/html": [
       "<div>\n",
       "<style scoped>\n",
       "    .dataframe tbody tr th:only-of-type {\n",
       "        vertical-align: middle;\n",
       "    }\n",
       "\n",
       "    .dataframe tbody tr th {\n",
       "        vertical-align: top;\n",
       "    }\n",
       "\n",
       "    .dataframe thead th {\n",
       "        text-align: right;\n",
       "    }\n",
       "</style>\n",
       "<table border=\"1\" class=\"dataframe\">\n",
       "  <thead>\n",
       "    <tr style=\"text-align: right;\">\n",
       "      <th></th>\n",
       "      <th>Ptid</th>\n",
       "      <th>Persistency_Flag</th>\n",
       "      <th>Gender</th>\n",
       "      <th>Race</th>\n",
       "      <th>Ethnicity</th>\n",
       "      <th>Region</th>\n",
       "      <th>Age_Bucket</th>\n",
       "      <th>Ntm_Speciality</th>\n",
       "      <th>Ntm_Specialist_Flag</th>\n",
       "      <th>Ntm_Speciality_Bucket</th>\n",
       "      <th>...</th>\n",
       "      <th>Risk_Family_History_Of_Osteoporosis</th>\n",
       "      <th>Risk_Low_Calcium_Intake</th>\n",
       "      <th>Risk_Vitamin_D_Insufficiency</th>\n",
       "      <th>Risk_Poor_Health_Frailty</th>\n",
       "      <th>Risk_Excessive_Thinness</th>\n",
       "      <th>Risk_Hysterectomy_Oophorectomy</th>\n",
       "      <th>Risk_Estrogen_Deficiency</th>\n",
       "      <th>Risk_Immobilization</th>\n",
       "      <th>Risk_Recurring_Falls</th>\n",
       "      <th>Count_Of_Risks</th>\n",
       "    </tr>\n",
       "  </thead>\n",
       "  <tbody>\n",
       "    <tr>\n",
       "      <th>0</th>\n",
       "      <td>P1</td>\n",
       "      <td>Persistent</td>\n",
       "      <td>Male</td>\n",
       "      <td>Caucasian</td>\n",
       "      <td>Not Hispanic</td>\n",
       "      <td>West</td>\n",
       "      <td>&gt;75</td>\n",
       "      <td>GENERAL PRACTITIONER</td>\n",
       "      <td>Others</td>\n",
       "      <td>OB/GYN/Others/PCP/Unknown</td>\n",
       "      <td>...</td>\n",
       "      <td>N</td>\n",
       "      <td>N</td>\n",
       "      <td>N</td>\n",
       "      <td>N</td>\n",
       "      <td>N</td>\n",
       "      <td>N</td>\n",
       "      <td>N</td>\n",
       "      <td>N</td>\n",
       "      <td>N</td>\n",
       "      <td>0</td>\n",
       "    </tr>\n",
       "    <tr>\n",
       "      <th>1</th>\n",
       "      <td>P2</td>\n",
       "      <td>Non-Persistent</td>\n",
       "      <td>Male</td>\n",
       "      <td>Asian</td>\n",
       "      <td>Not Hispanic</td>\n",
       "      <td>West</td>\n",
       "      <td>55-65</td>\n",
       "      <td>GENERAL PRACTITIONER</td>\n",
       "      <td>Others</td>\n",
       "      <td>OB/GYN/Others/PCP/Unknown</td>\n",
       "      <td>...</td>\n",
       "      <td>N</td>\n",
       "      <td>N</td>\n",
       "      <td>N</td>\n",
       "      <td>N</td>\n",
       "      <td>N</td>\n",
       "      <td>N</td>\n",
       "      <td>N</td>\n",
       "      <td>N</td>\n",
       "      <td>N</td>\n",
       "      <td>0</td>\n",
       "    </tr>\n",
       "    <tr>\n",
       "      <th>2</th>\n",
       "      <td>P3</td>\n",
       "      <td>Non-Persistent</td>\n",
       "      <td>Female</td>\n",
       "      <td>Other/Unknown</td>\n",
       "      <td>Hispanic</td>\n",
       "      <td>Midwest</td>\n",
       "      <td>65-75</td>\n",
       "      <td>GENERAL PRACTITIONER</td>\n",
       "      <td>Others</td>\n",
       "      <td>OB/GYN/Others/PCP/Unknown</td>\n",
       "      <td>...</td>\n",
       "      <td>N</td>\n",
       "      <td>Y</td>\n",
       "      <td>N</td>\n",
       "      <td>N</td>\n",
       "      <td>N</td>\n",
       "      <td>N</td>\n",
       "      <td>N</td>\n",
       "      <td>N</td>\n",
       "      <td>N</td>\n",
       "      <td>2</td>\n",
       "    </tr>\n",
       "    <tr>\n",
       "      <th>3</th>\n",
       "      <td>P4</td>\n",
       "      <td>Non-Persistent</td>\n",
       "      <td>Female</td>\n",
       "      <td>Caucasian</td>\n",
       "      <td>Not Hispanic</td>\n",
       "      <td>Midwest</td>\n",
       "      <td>&gt;75</td>\n",
       "      <td>GENERAL PRACTITIONER</td>\n",
       "      <td>Others</td>\n",
       "      <td>OB/GYN/Others/PCP/Unknown</td>\n",
       "      <td>...</td>\n",
       "      <td>N</td>\n",
       "      <td>N</td>\n",
       "      <td>N</td>\n",
       "      <td>N</td>\n",
       "      <td>N</td>\n",
       "      <td>N</td>\n",
       "      <td>N</td>\n",
       "      <td>N</td>\n",
       "      <td>N</td>\n",
       "      <td>1</td>\n",
       "    </tr>\n",
       "    <tr>\n",
       "      <th>4</th>\n",
       "      <td>P5</td>\n",
       "      <td>Non-Persistent</td>\n",
       "      <td>Female</td>\n",
       "      <td>Caucasian</td>\n",
       "      <td>Not Hispanic</td>\n",
       "      <td>Midwest</td>\n",
       "      <td>&gt;75</td>\n",
       "      <td>GENERAL PRACTITIONER</td>\n",
       "      <td>Others</td>\n",
       "      <td>OB/GYN/Others/PCP/Unknown</td>\n",
       "      <td>...</td>\n",
       "      <td>N</td>\n",
       "      <td>N</td>\n",
       "      <td>N</td>\n",
       "      <td>N</td>\n",
       "      <td>N</td>\n",
       "      <td>N</td>\n",
       "      <td>N</td>\n",
       "      <td>N</td>\n",
       "      <td>N</td>\n",
       "      <td>1</td>\n",
       "    </tr>\n",
       "  </tbody>\n",
       "</table>\n",
       "<p>5 rows × 69 columns</p>\n",
       "</div>"
      ],
      "text/plain": [
       "  Ptid Persistency_Flag  Gender           Race     Ethnicity   Region  \\\n",
       "0   P1       Persistent    Male      Caucasian  Not Hispanic     West   \n",
       "1   P2   Non-Persistent    Male          Asian  Not Hispanic     West   \n",
       "2   P3   Non-Persistent  Female  Other/Unknown      Hispanic  Midwest   \n",
       "3   P4   Non-Persistent  Female      Caucasian  Not Hispanic  Midwest   \n",
       "4   P5   Non-Persistent  Female      Caucasian  Not Hispanic  Midwest   \n",
       "\n",
       "  Age_Bucket        Ntm_Speciality Ntm_Specialist_Flag  \\\n",
       "0        >75  GENERAL PRACTITIONER              Others   \n",
       "1      55-65  GENERAL PRACTITIONER              Others   \n",
       "2      65-75  GENERAL PRACTITIONER              Others   \n",
       "3        >75  GENERAL PRACTITIONER              Others   \n",
       "4        >75  GENERAL PRACTITIONER              Others   \n",
       "\n",
       "       Ntm_Speciality_Bucket  ... Risk_Family_History_Of_Osteoporosis  \\\n",
       "0  OB/GYN/Others/PCP/Unknown  ...                                   N   \n",
       "1  OB/GYN/Others/PCP/Unknown  ...                                   N   \n",
       "2  OB/GYN/Others/PCP/Unknown  ...                                   N   \n",
       "3  OB/GYN/Others/PCP/Unknown  ...                                   N   \n",
       "4  OB/GYN/Others/PCP/Unknown  ...                                   N   \n",
       "\n",
       "  Risk_Low_Calcium_Intake  Risk_Vitamin_D_Insufficiency  \\\n",
       "0                       N                             N   \n",
       "1                       N                             N   \n",
       "2                       Y                             N   \n",
       "3                       N                             N   \n",
       "4                       N                             N   \n",
       "\n",
       "  Risk_Poor_Health_Frailty Risk_Excessive_Thinness  \\\n",
       "0                        N                       N   \n",
       "1                        N                       N   \n",
       "2                        N                       N   \n",
       "3                        N                       N   \n",
       "4                        N                       N   \n",
       "\n",
       "  Risk_Hysterectomy_Oophorectomy Risk_Estrogen_Deficiency Risk_Immobilization  \\\n",
       "0                              N                        N                   N   \n",
       "1                              N                        N                   N   \n",
       "2                              N                        N                   N   \n",
       "3                              N                        N                   N   \n",
       "4                              N                        N                   N   \n",
       "\n",
       "  Risk_Recurring_Falls Count_Of_Risks  \n",
       "0                    N              0  \n",
       "1                    N              0  \n",
       "2                    N              2  \n",
       "3                    N              1  \n",
       "4                    N              1  \n",
       "\n",
       "[5 rows x 69 columns]"
      ]
     },
     "execution_count": 3,
     "metadata": {},
     "output_type": "execute_result"
    }
   ],
   "source": [
    "df_healthcare.head()"
   ]
  },
  {
   "cell_type": "code",
   "execution_count": 23,
   "id": "e910447a",
   "metadata": {},
   "outputs": [
    {
     "data": {
      "text/html": [
       "<div>\n",
       "<style scoped>\n",
       "    .dataframe tbody tr th:only-of-type {\n",
       "        vertical-align: middle;\n",
       "    }\n",
       "\n",
       "    .dataframe tbody tr th {\n",
       "        vertical-align: top;\n",
       "    }\n",
       "\n",
       "    .dataframe thead th {\n",
       "        text-align: right;\n",
       "    }\n",
       "</style>\n",
       "<table border=\"1\" class=\"dataframe\">\n",
       "  <thead>\n",
       "    <tr style=\"text-align: right;\">\n",
       "      <th></th>\n",
       "      <th>Ptid</th>\n",
       "      <th>Persistency_Flag</th>\n",
       "      <th>Gender</th>\n",
       "      <th>Race</th>\n",
       "      <th>Ethnicity</th>\n",
       "      <th>Region</th>\n",
       "      <th>Age_Bucket</th>\n",
       "      <th>Ntm_Speciality</th>\n",
       "      <th>Ntm_Specialist_Flag</th>\n",
       "      <th>Ntm_Speciality_Bucket</th>\n",
       "      <th>...</th>\n",
       "      <th>Risk_Family_History_Of_Osteoporosis</th>\n",
       "      <th>Risk_Low_Calcium_Intake</th>\n",
       "      <th>Risk_Vitamin_D_Insufficiency</th>\n",
       "      <th>Risk_Poor_Health_Frailty</th>\n",
       "      <th>Risk_Excessive_Thinness</th>\n",
       "      <th>Risk_Hysterectomy_Oophorectomy</th>\n",
       "      <th>Risk_Estrogen_Deficiency</th>\n",
       "      <th>Risk_Immobilization</th>\n",
       "      <th>Risk_Recurring_Falls</th>\n",
       "      <th>Count_Of_Risks</th>\n",
       "    </tr>\n",
       "  </thead>\n",
       "  <tbody>\n",
       "    <tr>\n",
       "      <th>0</th>\n",
       "      <td>P1</td>\n",
       "      <td>0</td>\n",
       "      <td>0</td>\n",
       "      <td>Caucasian</td>\n",
       "      <td>Not Hispanic</td>\n",
       "      <td>West</td>\n",
       "      <td>&gt;75</td>\n",
       "      <td>GENERAL PRACTITIONER</td>\n",
       "      <td>0</td>\n",
       "      <td>OB/GYN/Others/PCP/Unknown</td>\n",
       "      <td>...</td>\n",
       "      <td>0</td>\n",
       "      <td>0</td>\n",
       "      <td>0</td>\n",
       "      <td>0</td>\n",
       "      <td>0</td>\n",
       "      <td>0</td>\n",
       "      <td>0</td>\n",
       "      <td>0</td>\n",
       "      <td>0</td>\n",
       "      <td>0</td>\n",
       "    </tr>\n",
       "    <tr>\n",
       "      <th>1</th>\n",
       "      <td>P2</td>\n",
       "      <td>1</td>\n",
       "      <td>0</td>\n",
       "      <td>Asian</td>\n",
       "      <td>Not Hispanic</td>\n",
       "      <td>West</td>\n",
       "      <td>55-65</td>\n",
       "      <td>GENERAL PRACTITIONER</td>\n",
       "      <td>0</td>\n",
       "      <td>OB/GYN/Others/PCP/Unknown</td>\n",
       "      <td>...</td>\n",
       "      <td>0</td>\n",
       "      <td>0</td>\n",
       "      <td>0</td>\n",
       "      <td>0</td>\n",
       "      <td>0</td>\n",
       "      <td>0</td>\n",
       "      <td>0</td>\n",
       "      <td>0</td>\n",
       "      <td>0</td>\n",
       "      <td>0</td>\n",
       "    </tr>\n",
       "    <tr>\n",
       "      <th>2</th>\n",
       "      <td>P3</td>\n",
       "      <td>1</td>\n",
       "      <td>1</td>\n",
       "      <td>Other/Unknown</td>\n",
       "      <td>Hispanic</td>\n",
       "      <td>Midwest</td>\n",
       "      <td>65-75</td>\n",
       "      <td>GENERAL PRACTITIONER</td>\n",
       "      <td>0</td>\n",
       "      <td>OB/GYN/Others/PCP/Unknown</td>\n",
       "      <td>...</td>\n",
       "      <td>0</td>\n",
       "      <td>1</td>\n",
       "      <td>0</td>\n",
       "      <td>0</td>\n",
       "      <td>0</td>\n",
       "      <td>0</td>\n",
       "      <td>0</td>\n",
       "      <td>0</td>\n",
       "      <td>0</td>\n",
       "      <td>2</td>\n",
       "    </tr>\n",
       "    <tr>\n",
       "      <th>3</th>\n",
       "      <td>P4</td>\n",
       "      <td>1</td>\n",
       "      <td>1</td>\n",
       "      <td>Caucasian</td>\n",
       "      <td>Not Hispanic</td>\n",
       "      <td>Midwest</td>\n",
       "      <td>&gt;75</td>\n",
       "      <td>GENERAL PRACTITIONER</td>\n",
       "      <td>0</td>\n",
       "      <td>OB/GYN/Others/PCP/Unknown</td>\n",
       "      <td>...</td>\n",
       "      <td>0</td>\n",
       "      <td>0</td>\n",
       "      <td>0</td>\n",
       "      <td>0</td>\n",
       "      <td>0</td>\n",
       "      <td>0</td>\n",
       "      <td>0</td>\n",
       "      <td>0</td>\n",
       "      <td>0</td>\n",
       "      <td>1</td>\n",
       "    </tr>\n",
       "    <tr>\n",
       "      <th>4</th>\n",
       "      <td>P5</td>\n",
       "      <td>1</td>\n",
       "      <td>1</td>\n",
       "      <td>Caucasian</td>\n",
       "      <td>Not Hispanic</td>\n",
       "      <td>Midwest</td>\n",
       "      <td>&gt;75</td>\n",
       "      <td>GENERAL PRACTITIONER</td>\n",
       "      <td>0</td>\n",
       "      <td>OB/GYN/Others/PCP/Unknown</td>\n",
       "      <td>...</td>\n",
       "      <td>0</td>\n",
       "      <td>0</td>\n",
       "      <td>0</td>\n",
       "      <td>0</td>\n",
       "      <td>0</td>\n",
       "      <td>0</td>\n",
       "      <td>0</td>\n",
       "      <td>0</td>\n",
       "      <td>0</td>\n",
       "      <td>1</td>\n",
       "    </tr>\n",
       "  </tbody>\n",
       "</table>\n",
       "<p>5 rows × 69 columns</p>\n",
       "</div>"
      ],
      "text/plain": [
       "  Ptid  Persistency_Flag  Gender           Race     Ethnicity   Region  \\\n",
       "0   P1                 0       0      Caucasian  Not Hispanic     West   \n",
       "1   P2                 1       0          Asian  Not Hispanic     West   \n",
       "2   P3                 1       1  Other/Unknown      Hispanic  Midwest   \n",
       "3   P4                 1       1      Caucasian  Not Hispanic  Midwest   \n",
       "4   P5                 1       1      Caucasian  Not Hispanic  Midwest   \n",
       "\n",
       "  Age_Bucket        Ntm_Speciality  Ntm_Specialist_Flag  \\\n",
       "0        >75  GENERAL PRACTITIONER                    0   \n",
       "1      55-65  GENERAL PRACTITIONER                    0   \n",
       "2      65-75  GENERAL PRACTITIONER                    0   \n",
       "3        >75  GENERAL PRACTITIONER                    0   \n",
       "4        >75  GENERAL PRACTITIONER                    0   \n",
       "\n",
       "       Ntm_Speciality_Bucket  ...  Risk_Family_History_Of_Osteoporosis  \\\n",
       "0  OB/GYN/Others/PCP/Unknown  ...                                    0   \n",
       "1  OB/GYN/Others/PCP/Unknown  ...                                    0   \n",
       "2  OB/GYN/Others/PCP/Unknown  ...                                    0   \n",
       "3  OB/GYN/Others/PCP/Unknown  ...                                    0   \n",
       "4  OB/GYN/Others/PCP/Unknown  ...                                    0   \n",
       "\n",
       "   Risk_Low_Calcium_Intake  Risk_Vitamin_D_Insufficiency  \\\n",
       "0                        0                             0   \n",
       "1                        0                             0   \n",
       "2                        1                             0   \n",
       "3                        0                             0   \n",
       "4                        0                             0   \n",
       "\n",
       "   Risk_Poor_Health_Frailty  Risk_Excessive_Thinness  \\\n",
       "0                         0                        0   \n",
       "1                         0                        0   \n",
       "2                         0                        0   \n",
       "3                         0                        0   \n",
       "4                         0                        0   \n",
       "\n",
       "   Risk_Hysterectomy_Oophorectomy  Risk_Estrogen_Deficiency  \\\n",
       "0                               0                         0   \n",
       "1                               0                         0   \n",
       "2                               0                         0   \n",
       "3                               0                         0   \n",
       "4                               0                         0   \n",
       "\n",
       "   Risk_Immobilization Risk_Recurring_Falls Count_Of_Risks  \n",
       "0                    0                    0              0  \n",
       "1                    0                    0              0  \n",
       "2                    0                    0              2  \n",
       "3                    0                    0              1  \n",
       "4                    0                    0              1  \n",
       "\n",
       "[5 rows x 69 columns]"
      ]
     },
     "execution_count": 23,
     "metadata": {},
     "output_type": "execute_result"
    }
   ],
   "source": [
    "df_healthcare.head()"
   ]
  },
  {
   "cell_type": "code",
   "execution_count": 4,
   "id": "cebb432f",
   "metadata": {},
   "outputs": [
    {
     "name": "stdout",
     "output_type": "stream",
     "text": [
      "<class 'pandas.core.frame.DataFrame'>\n",
      "RangeIndex: 3424 entries, 0 to 3423\n",
      "Data columns (total 69 columns):\n",
      " #   Column                                                              Non-Null Count  Dtype \n",
      "---  ------                                                              --------------  ----- \n",
      " 0   Ptid                                                                3424 non-null   object\n",
      " 1   Persistency_Flag                                                    3424 non-null   object\n",
      " 2   Gender                                                              3424 non-null   object\n",
      " 3   Race                                                                3424 non-null   object\n",
      " 4   Ethnicity                                                           3424 non-null   object\n",
      " 5   Region                                                              3424 non-null   object\n",
      " 6   Age_Bucket                                                          3424 non-null   object\n",
      " 7   Ntm_Speciality                                                      3424 non-null   object\n",
      " 8   Ntm_Specialist_Flag                                                 3424 non-null   object\n",
      " 9   Ntm_Speciality_Bucket                                               3424 non-null   object\n",
      " 10  Gluco_Record_Prior_Ntm                                              3424 non-null   object\n",
      " 11  Gluco_Record_During_Rx                                              3424 non-null   object\n",
      " 12  Dexa_Freq_During_Rx                                                 3424 non-null   int64 \n",
      " 13  Dexa_During_Rx                                                      3424 non-null   object\n",
      " 14  Frag_Frac_Prior_Ntm                                                 3424 non-null   object\n",
      " 15  Frag_Frac_During_Rx                                                 3424 non-null   object\n",
      " 16  Risk_Segment_Prior_Ntm                                              3424 non-null   object\n",
      " 17  Tscore_Bucket_Prior_Ntm                                             3424 non-null   object\n",
      " 18  Risk_Segment_During_Rx                                              3424 non-null   object\n",
      " 19  Tscore_Bucket_During_Rx                                             3424 non-null   object\n",
      " 20  Change_T_Score                                                      3424 non-null   object\n",
      " 21  Change_Risk_Segment                                                 3424 non-null   object\n",
      " 22  Adherent_Flag                                                       3424 non-null   object\n",
      " 23  Idn_Indicator                                                       3424 non-null   object\n",
      " 24  Injectable_Experience_During_Rx                                     3424 non-null   object\n",
      " 25  Comorb_Encounter_For_Screening_For_Malignant_Neoplasms              3424 non-null   object\n",
      " 26  Comorb_Encounter_For_Immunization                                   3424 non-null   object\n",
      " 27  Comorb_Encntr_For_General_Exam_W_O_Complaint,_Susp_Or_Reprtd_Dx     3424 non-null   object\n",
      " 28  Comorb_Vitamin_D_Deficiency                                         3424 non-null   object\n",
      " 29  Comorb_Other_Joint_Disorder_Not_Elsewhere_Classified                3424 non-null   object\n",
      " 30  Comorb_Encntr_For_Oth_Sp_Exam_W_O_Complaint_Suspected_Or_Reprtd_Dx  3424 non-null   object\n",
      " 31  Comorb_Long_Term_Current_Drug_Therapy                               3424 non-null   object\n",
      " 32  Comorb_Dorsalgia                                                    3424 non-null   object\n",
      " 33  Comorb_Personal_History_Of_Other_Diseases_And_Conditions            3424 non-null   object\n",
      " 34  Comorb_Other_Disorders_Of_Bone_Density_And_Structure                3424 non-null   object\n",
      " 35  Comorb_Disorders_of_lipoprotein_metabolism_and_other_lipidemias     3424 non-null   object\n",
      " 36  Comorb_Osteoporosis_without_current_pathological_fracture           3424 non-null   object\n",
      " 37  Comorb_Personal_history_of_malignant_neoplasm                       3424 non-null   object\n",
      " 38  Comorb_Gastro_esophageal_reflux_disease                             3424 non-null   object\n",
      " 39  Concom_Cholesterol_And_Triglyceride_Regulating_Preparations         3424 non-null   object\n",
      " 40  Concom_Narcotics                                                    3424 non-null   object\n",
      " 41  Concom_Systemic_Corticosteroids_Plain                               3424 non-null   object\n",
      " 42  Concom_Anti_Depressants_And_Mood_Stabilisers                        3424 non-null   object\n",
      " 43  Concom_Fluoroquinolones                                             3424 non-null   object\n",
      " 44  Concom_Cephalosporins                                               3424 non-null   object\n",
      " 45  Concom_Macrolides_And_Similar_Types                                 3424 non-null   object\n",
      " 46  Concom_Broad_Spectrum_Penicillins                                   3424 non-null   object\n",
      " 47  Concom_Anaesthetics_General                                         3424 non-null   object\n",
      " 48  Concom_Viral_Vaccines                                               3424 non-null   object\n",
      " 49  Risk_Type_1_Insulin_Dependent_Diabetes                              3424 non-null   object\n",
      " 50  Risk_Osteogenesis_Imperfecta                                        3424 non-null   object\n",
      " 51  Risk_Rheumatoid_Arthritis                                           3424 non-null   object\n",
      " 52  Risk_Untreated_Chronic_Hyperthyroidism                              3424 non-null   object\n",
      " 53  Risk_Untreated_Chronic_Hypogonadism                                 3424 non-null   object\n",
      " 54  Risk_Untreated_Early_Menopause                                      3424 non-null   object\n",
      " 55  Risk_Patient_Parent_Fractured_Their_Hip                             3424 non-null   object\n",
      " 56  Risk_Smoking_Tobacco                                                3424 non-null   object\n",
      " 57  Risk_Chronic_Malnutrition_Or_Malabsorption                          3424 non-null   object\n",
      " 58  Risk_Chronic_Liver_Disease                                          3424 non-null   object\n",
      " 59  Risk_Family_History_Of_Osteoporosis                                 3424 non-null   object\n",
      " 60  Risk_Low_Calcium_Intake                                             3424 non-null   object\n",
      " 61  Risk_Vitamin_D_Insufficiency                                        3424 non-null   object\n",
      " 62  Risk_Poor_Health_Frailty                                            3424 non-null   object\n",
      " 63  Risk_Excessive_Thinness                                             3424 non-null   object\n",
      " 64  Risk_Hysterectomy_Oophorectomy                                      3424 non-null   object\n",
      " 65  Risk_Estrogen_Deficiency                                            3424 non-null   object\n",
      " 66  Risk_Immobilization                                                 3424 non-null   object\n",
      " 67  Risk_Recurring_Falls                                                3424 non-null   object\n",
      " 68  Count_Of_Risks                                                      3424 non-null   int64 \n",
      "dtypes: int64(2), object(67)\n",
      "memory usage: 1.8+ MB\n"
     ]
    }
   ],
   "source": [
    "df_healthcare.info()"
   ]
  },
  {
   "cell_type": "code",
   "execution_count": 7,
   "id": "b3a0b80e",
   "metadata": {},
   "outputs": [
    {
     "data": {
      "text/plain": [
       "array(['Caucasian', 'Asian', 'Other/Unknown', 'African American'],\n",
       "      dtype=object)"
      ]
     },
     "execution_count": 7,
     "metadata": {},
     "output_type": "execute_result"
    }
   ],
   "source": [
    "df_healthcare.Race.unique()"
   ]
  },
  {
   "cell_type": "code",
   "execution_count": 13,
   "id": "ab0ce39d",
   "metadata": {},
   "outputs": [
    {
     "name": "stdout",
     "output_type": "stream",
     "text": [
      "Ptid : ['P1' 'P2' 'P3' ... 'P3422' 'P3423' 'P3424']\n",
      "Persistency_Flag : ['Persistent' 'Non-Persistent']\n",
      "Gender : ['Male' 'Female']\n",
      "Race : ['Caucasian' 'Asian' 'Other/Unknown' 'African American']\n",
      "Ethnicity : ['Not Hispanic' 'Hispanic' 'Unknown']\n",
      "Region : ['West' 'Midwest' 'South' 'Other/Unknown' 'Northeast']\n",
      "Age_Bucket : ['>75' '55-65' '65-75' '<55']\n",
      "Ntm_Speciality : ['GENERAL PRACTITIONER' 'Unknown' 'ENDOCRINOLOGY' 'RHEUMATOLOGY'\n",
      " 'ONCOLOGY' 'PATHOLOGY' 'OBSTETRICS AND GYNECOLOGY'\n",
      " 'PSYCHIATRY AND NEUROLOGY' 'ORTHOPEDIC SURGERY'\n",
      " 'PHYSICAL MEDICINE AND REHABILITATION' 'SURGERY AND SURGICAL SPECIALTIES'\n",
      " 'PEDIATRICS' 'PULMONARY MEDICINE' 'HEMATOLOGY & ONCOLOGY' 'UROLOGY'\n",
      " 'PAIN MEDICINE' 'NEUROLOGY' 'RADIOLOGY' 'GASTROENTEROLOGY'\n",
      " 'EMERGENCY MEDICINE' 'PODIATRY' 'OPHTHALMOLOGY' 'OCCUPATIONAL MEDICINE'\n",
      " 'TRANSPLANT SURGERY' 'PLASTIC SURGERY' 'CLINICAL NURSE SPECIALIST'\n",
      " 'OTOLARYNGOLOGY' 'HOSPITAL MEDICINE' 'ORTHOPEDICS' 'NEPHROLOGY'\n",
      " 'GERIATRIC MEDICINE' 'HOSPICE AND PALLIATIVE MEDICINE'\n",
      " 'OBSTETRICS & OBSTETRICS & GYNECOLOGY & OBSTETRICS & GYNECOLOGY'\n",
      " 'VASCULAR SURGERY' 'CARDIOLOGY' 'NUCLEAR MEDICINE']\n",
      "Ntm_Specialist_Flag : ['Others' 'Specialist']\n",
      "Ntm_Speciality_Bucket : ['OB/GYN/Others/PCP/Unknown' 'Endo/Onc/Uro' 'Rheum']\n",
      "Gluco_Record_Prior_Ntm : ['N' 'Y']\n",
      "Gluco_Record_During_Rx : ['N' 'Y']\n",
      "Dexa_Freq_During_Rx : [  0   2   7   3   5  20  13   1   6  12   4  10  25  11  18  21  15  28\n",
      "  22  37  14   8   9  17  81  42  16  30  19  45  27  24  58  26  23  33\n",
      " 110  36  34  88  66  32 118  48  69  38  40  68  52  50 146  44  35  39\n",
      " 108  54  72  29]\n",
      "Dexa_During_Rx : ['N' 'Y']\n",
      "Frag_Frac_Prior_Ntm : ['N' 'Y']\n",
      "Frag_Frac_During_Rx : ['N' 'Y']\n",
      "Risk_Segment_Prior_Ntm : ['VLR_LR' 'HR_VHR']\n",
      "Tscore_Bucket_Prior_Ntm : ['>-2.5' '<=-2.5']\n",
      "Risk_Segment_During_Rx : ['VLR_LR' 'Unknown' 'HR_VHR']\n",
      "Tscore_Bucket_During_Rx : ['<=-2.5' 'Unknown' '>-2.5']\n",
      "Change_T_Score : ['No change' 'Unknown' 'Worsened' 'Improved']\n",
      "Change_Risk_Segment : ['Unknown' 'No change' 'Worsened' 'Improved']\n",
      "Adherent_Flag : ['Adherent' 'Non-Adherent']\n",
      "Idn_Indicator : ['N' 'Y']\n",
      "Injectable_Experience_During_Rx : ['Y' 'N']\n",
      "Comorb_Encounter_For_Screening_For_Malignant_Neoplasms : ['N' 'Y']\n",
      "Comorb_Encounter_For_Immunization : ['Y' 'N']\n",
      "Comorb_Encntr_For_General_Exam_W_O_Complaint,_Susp_Or_Reprtd_Dx : ['Y' 'N']\n",
      "Comorb_Vitamin_D_Deficiency : ['N' 'Y']\n",
      "Comorb_Other_Joint_Disorder_Not_Elsewhere_Classified : ['N' 'Y']\n",
      "Comorb_Encntr_For_Oth_Sp_Exam_W_O_Complaint_Suspected_Or_Reprtd_Dx : ['Y' 'N']\n",
      "Comorb_Long_Term_Current_Drug_Therapy : ['N' 'Y']\n",
      "Comorb_Dorsalgia : ['Y' 'N']\n",
      "Comorb_Personal_History_Of_Other_Diseases_And_Conditions : ['Y' 'N']\n",
      "Comorb_Other_Disorders_Of_Bone_Density_And_Structure : ['N' 'Y']\n",
      "Comorb_Disorders_of_lipoprotein_metabolism_and_other_lipidemias : ['N' 'Y']\n",
      "Comorb_Osteoporosis_without_current_pathological_fracture : ['N' 'Y']\n",
      "Comorb_Personal_history_of_malignant_neoplasm : ['N' 'Y']\n",
      "Comorb_Gastro_esophageal_reflux_disease : ['N' 'Y']\n",
      "Concom_Cholesterol_And_Triglyceride_Regulating_Preparations : ['N' 'Y']\n",
      "Concom_Narcotics : ['N' 'Y']\n",
      "Concom_Systemic_Corticosteroids_Plain : ['N' 'Y']\n",
      "Concom_Anti_Depressants_And_Mood_Stabilisers : ['N' 'Y']\n",
      "Concom_Fluoroquinolones : ['N' 'Y']\n",
      "Concom_Cephalosporins : ['N' 'Y']\n",
      "Concom_Macrolides_And_Similar_Types : ['N' 'Y']\n",
      "Concom_Broad_Spectrum_Penicillins : ['N' 'Y']\n",
      "Concom_Anaesthetics_General : ['N' 'Y']\n",
      "Concom_Viral_Vaccines : ['N' 'Y']\n",
      "Risk_Type_1_Insulin_Dependent_Diabetes : ['N' 'Y']\n",
      "Risk_Osteogenesis_Imperfecta : ['N' 'Y']\n",
      "Risk_Rheumatoid_Arthritis : ['N' 'Y']\n",
      "Risk_Untreated_Chronic_Hyperthyroidism : ['N' 'Y']\n",
      "Risk_Untreated_Chronic_Hypogonadism : ['N' 'Y']\n",
      "Risk_Untreated_Early_Menopause : ['N' 'Y']\n",
      "Risk_Patient_Parent_Fractured_Their_Hip : ['N' 'Y']\n",
      "Risk_Smoking_Tobacco : ['N' 'Y']\n",
      "Risk_Chronic_Malnutrition_Or_Malabsorption : ['N' 'Y']\n",
      "Risk_Chronic_Liver_Disease : ['N' 'Y']\n",
      "Risk_Family_History_Of_Osteoporosis : ['N' 'Y']\n",
      "Risk_Low_Calcium_Intake : ['N' 'Y']\n",
      "Risk_Vitamin_D_Insufficiency : ['N' 'Y']\n",
      "Risk_Poor_Health_Frailty : ['N' 'Y']\n",
      "Risk_Excessive_Thinness : ['N' 'Y']\n",
      "Risk_Hysterectomy_Oophorectomy : ['N' 'Y']\n",
      "Risk_Estrogen_Deficiency : ['N' 'Y']\n",
      "Risk_Immobilization : ['N' 'Y']\n",
      "Risk_Recurring_Falls : ['N' 'Y']\n",
      "Count_Of_Risks : [0 2 1 3 4 5 6 7]\n"
     ]
    }
   ],
   "source": [
    "for i in df_healthcare.columns:\n",
    "    print(i, \":\", df_healthcare[i].unique())"
   ]
  },
  {
   "cell_type": "code",
   "execution_count": 19,
   "id": "a6190568",
   "metadata": {},
   "outputs": [
    {
     "data": {
      "text/plain": [
       "'N'"
      ]
     },
     "execution_count": 19,
     "metadata": {},
     "output_type": "execute_result"
    }
   ],
   "source": [
    "df_healthcare.Dexa_During_Rx.unique()[0]"
   ]
  },
  {
   "cell_type": "code",
   "execution_count": 21,
   "id": "2e857973",
   "metadata": {},
   "outputs": [],
   "source": [
    "for i in df_healthcare.columns:\n",
    "    if(df_healthcare[i].unique().shape[0] ==2):\n",
    "        df_healthcare[i] = df_healthcare[i].map({df_healthcare[i].unique()[0]:0, df_healthcare[i].unique()[1]:1})  "
   ]
  },
  {
   "cell_type": "code",
   "execution_count": 22,
   "id": "016154fe",
   "metadata": {},
   "outputs": [
    {
     "name": "stdout",
     "output_type": "stream",
     "text": [
      "Ptid : ['P1' 'P2' 'P3' ... 'P3422' 'P3423' 'P3424']\n",
      "Persistency_Flag : [0 1]\n",
      "Gender : [0 1]\n",
      "Race : ['Caucasian' 'Asian' 'Other/Unknown' 'African American']\n",
      "Ethnicity : ['Not Hispanic' 'Hispanic' 'Unknown']\n",
      "Region : ['West' 'Midwest' 'South' 'Other/Unknown' 'Northeast']\n",
      "Age_Bucket : ['>75' '55-65' '65-75' '<55']\n",
      "Ntm_Speciality : ['GENERAL PRACTITIONER' 'Unknown' 'ENDOCRINOLOGY' 'RHEUMATOLOGY'\n",
      " 'ONCOLOGY' 'PATHOLOGY' 'OBSTETRICS AND GYNECOLOGY'\n",
      " 'PSYCHIATRY AND NEUROLOGY' 'ORTHOPEDIC SURGERY'\n",
      " 'PHYSICAL MEDICINE AND REHABILITATION' 'SURGERY AND SURGICAL SPECIALTIES'\n",
      " 'PEDIATRICS' 'PULMONARY MEDICINE' 'HEMATOLOGY & ONCOLOGY' 'UROLOGY'\n",
      " 'PAIN MEDICINE' 'NEUROLOGY' 'RADIOLOGY' 'GASTROENTEROLOGY'\n",
      " 'EMERGENCY MEDICINE' 'PODIATRY' 'OPHTHALMOLOGY' 'OCCUPATIONAL MEDICINE'\n",
      " 'TRANSPLANT SURGERY' 'PLASTIC SURGERY' 'CLINICAL NURSE SPECIALIST'\n",
      " 'OTOLARYNGOLOGY' 'HOSPITAL MEDICINE' 'ORTHOPEDICS' 'NEPHROLOGY'\n",
      " 'GERIATRIC MEDICINE' 'HOSPICE AND PALLIATIVE MEDICINE'\n",
      " 'OBSTETRICS & OBSTETRICS & GYNECOLOGY & OBSTETRICS & GYNECOLOGY'\n",
      " 'VASCULAR SURGERY' 'CARDIOLOGY' 'NUCLEAR MEDICINE']\n",
      "Ntm_Specialist_Flag : [0 1]\n",
      "Ntm_Speciality_Bucket : ['OB/GYN/Others/PCP/Unknown' 'Endo/Onc/Uro' 'Rheum']\n",
      "Gluco_Record_Prior_Ntm : [0 1]\n",
      "Gluco_Record_During_Rx : [0 1]\n",
      "Dexa_Freq_During_Rx : [  0   2   7   3   5  20  13   1   6  12   4  10  25  11  18  21  15  28\n",
      "  22  37  14   8   9  17  81  42  16  30  19  45  27  24  58  26  23  33\n",
      " 110  36  34  88  66  32 118  48  69  38  40  68  52  50 146  44  35  39\n",
      " 108  54  72  29]\n",
      "Dexa_During_Rx : [0 1]\n",
      "Frag_Frac_Prior_Ntm : [0 1]\n",
      "Frag_Frac_During_Rx : [0 1]\n",
      "Risk_Segment_Prior_Ntm : [0 1]\n",
      "Tscore_Bucket_Prior_Ntm : [0 1]\n",
      "Risk_Segment_During_Rx : ['VLR_LR' 'Unknown' 'HR_VHR']\n",
      "Tscore_Bucket_During_Rx : ['<=-2.5' 'Unknown' '>-2.5']\n",
      "Change_T_Score : ['No change' 'Unknown' 'Worsened' 'Improved']\n",
      "Change_Risk_Segment : ['Unknown' 'No change' 'Worsened' 'Improved']\n",
      "Adherent_Flag : [0 1]\n",
      "Idn_Indicator : [0 1]\n",
      "Injectable_Experience_During_Rx : [0 1]\n",
      "Comorb_Encounter_For_Screening_For_Malignant_Neoplasms : [0 1]\n",
      "Comorb_Encounter_For_Immunization : [0 1]\n",
      "Comorb_Encntr_For_General_Exam_W_O_Complaint,_Susp_Or_Reprtd_Dx : [0 1]\n",
      "Comorb_Vitamin_D_Deficiency : [0 1]\n",
      "Comorb_Other_Joint_Disorder_Not_Elsewhere_Classified : [0 1]\n",
      "Comorb_Encntr_For_Oth_Sp_Exam_W_O_Complaint_Suspected_Or_Reprtd_Dx : [0 1]\n",
      "Comorb_Long_Term_Current_Drug_Therapy : [0 1]\n",
      "Comorb_Dorsalgia : [0 1]\n",
      "Comorb_Personal_History_Of_Other_Diseases_And_Conditions : [0 1]\n",
      "Comorb_Other_Disorders_Of_Bone_Density_And_Structure : [0 1]\n",
      "Comorb_Disorders_of_lipoprotein_metabolism_and_other_lipidemias : [0 1]\n",
      "Comorb_Osteoporosis_without_current_pathological_fracture : [0 1]\n",
      "Comorb_Personal_history_of_malignant_neoplasm : [0 1]\n",
      "Comorb_Gastro_esophageal_reflux_disease : [0 1]\n",
      "Concom_Cholesterol_And_Triglyceride_Regulating_Preparations : [0 1]\n",
      "Concom_Narcotics : [0 1]\n",
      "Concom_Systemic_Corticosteroids_Plain : [0 1]\n",
      "Concom_Anti_Depressants_And_Mood_Stabilisers : [0 1]\n",
      "Concom_Fluoroquinolones : [0 1]\n",
      "Concom_Cephalosporins : [0 1]\n",
      "Concom_Macrolides_And_Similar_Types : [0 1]\n",
      "Concom_Broad_Spectrum_Penicillins : [0 1]\n",
      "Concom_Anaesthetics_General : [0 1]\n",
      "Concom_Viral_Vaccines : [0 1]\n",
      "Risk_Type_1_Insulin_Dependent_Diabetes : [0 1]\n",
      "Risk_Osteogenesis_Imperfecta : [0 1]\n",
      "Risk_Rheumatoid_Arthritis : [0 1]\n",
      "Risk_Untreated_Chronic_Hyperthyroidism : [0 1]\n",
      "Risk_Untreated_Chronic_Hypogonadism : [0 1]\n",
      "Risk_Untreated_Early_Menopause : [0 1]\n",
      "Risk_Patient_Parent_Fractured_Their_Hip : [0 1]\n",
      "Risk_Smoking_Tobacco : [0 1]\n",
      "Risk_Chronic_Malnutrition_Or_Malabsorption : [0 1]\n",
      "Risk_Chronic_Liver_Disease : [0 1]\n",
      "Risk_Family_History_Of_Osteoporosis : [0 1]\n",
      "Risk_Low_Calcium_Intake : [0 1]\n",
      "Risk_Vitamin_D_Insufficiency : [0 1]\n",
      "Risk_Poor_Health_Frailty : [0 1]\n",
      "Risk_Excessive_Thinness : [0 1]\n",
      "Risk_Hysterectomy_Oophorectomy : [0 1]\n",
      "Risk_Estrogen_Deficiency : [0 1]\n",
      "Risk_Immobilization : [0 1]\n",
      "Risk_Recurring_Falls : [0 1]\n",
      "Count_Of_Risks : [0 2 1 3 4 5 6 7]\n"
     ]
    }
   ],
   "source": [
    "for i in df_healthcare.columns:\n",
    "    print(i, \":\", df_healthcare[i].unique())"
   ]
  },
  {
   "cell_type": "code",
   "execution_count": 24,
   "id": "40d5f01d",
   "metadata": {},
   "outputs": [
    {
     "name": "stdout",
     "output_type": "stream",
     "text": [
      "<class 'pandas.core.frame.DataFrame'>\n",
      "RangeIndex: 3424 entries, 0 to 3423\n",
      "Data columns (total 69 columns):\n",
      " #   Column                                                              Non-Null Count  Dtype \n",
      "---  ------                                                              --------------  ----- \n",
      " 0   Ptid                                                                3424 non-null   object\n",
      " 1   Persistency_Flag                                                    3424 non-null   int64 \n",
      " 2   Gender                                                              3424 non-null   int64 \n",
      " 3   Race                                                                3424 non-null   object\n",
      " 4   Ethnicity                                                           3424 non-null   object\n",
      " 5   Region                                                              3424 non-null   object\n",
      " 6   Age_Bucket                                                          3424 non-null   object\n",
      " 7   Ntm_Speciality                                                      3424 non-null   object\n",
      " 8   Ntm_Specialist_Flag                                                 3424 non-null   int64 \n",
      " 9   Ntm_Speciality_Bucket                                               3424 non-null   object\n",
      " 10  Gluco_Record_Prior_Ntm                                              3424 non-null   int64 \n",
      " 11  Gluco_Record_During_Rx                                              3424 non-null   int64 \n",
      " 12  Dexa_Freq_During_Rx                                                 3424 non-null   int64 \n",
      " 13  Dexa_During_Rx                                                      3424 non-null   int64 \n",
      " 14  Frag_Frac_Prior_Ntm                                                 3424 non-null   int64 \n",
      " 15  Frag_Frac_During_Rx                                                 3424 non-null   int64 \n",
      " 16  Risk_Segment_Prior_Ntm                                              3424 non-null   int64 \n",
      " 17  Tscore_Bucket_Prior_Ntm                                             3424 non-null   int64 \n",
      " 18  Risk_Segment_During_Rx                                              3424 non-null   object\n",
      " 19  Tscore_Bucket_During_Rx                                             3424 non-null   object\n",
      " 20  Change_T_Score                                                      3424 non-null   object\n",
      " 21  Change_Risk_Segment                                                 3424 non-null   object\n",
      " 22  Adherent_Flag                                                       3424 non-null   int64 \n",
      " 23  Idn_Indicator                                                       3424 non-null   int64 \n",
      " 24  Injectable_Experience_During_Rx                                     3424 non-null   int64 \n",
      " 25  Comorb_Encounter_For_Screening_For_Malignant_Neoplasms              3424 non-null   int64 \n",
      " 26  Comorb_Encounter_For_Immunization                                   3424 non-null   int64 \n",
      " 27  Comorb_Encntr_For_General_Exam_W_O_Complaint,_Susp_Or_Reprtd_Dx     3424 non-null   int64 \n",
      " 28  Comorb_Vitamin_D_Deficiency                                         3424 non-null   int64 \n",
      " 29  Comorb_Other_Joint_Disorder_Not_Elsewhere_Classified                3424 non-null   int64 \n",
      " 30  Comorb_Encntr_For_Oth_Sp_Exam_W_O_Complaint_Suspected_Or_Reprtd_Dx  3424 non-null   int64 \n",
      " 31  Comorb_Long_Term_Current_Drug_Therapy                               3424 non-null   int64 \n",
      " 32  Comorb_Dorsalgia                                                    3424 non-null   int64 \n",
      " 33  Comorb_Personal_History_Of_Other_Diseases_And_Conditions            3424 non-null   int64 \n",
      " 34  Comorb_Other_Disorders_Of_Bone_Density_And_Structure                3424 non-null   int64 \n",
      " 35  Comorb_Disorders_of_lipoprotein_metabolism_and_other_lipidemias     3424 non-null   int64 \n",
      " 36  Comorb_Osteoporosis_without_current_pathological_fracture           3424 non-null   int64 \n",
      " 37  Comorb_Personal_history_of_malignant_neoplasm                       3424 non-null   int64 \n",
      " 38  Comorb_Gastro_esophageal_reflux_disease                             3424 non-null   int64 \n",
      " 39  Concom_Cholesterol_And_Triglyceride_Regulating_Preparations         3424 non-null   int64 \n",
      " 40  Concom_Narcotics                                                    3424 non-null   int64 \n",
      " 41  Concom_Systemic_Corticosteroids_Plain                               3424 non-null   int64 \n",
      " 42  Concom_Anti_Depressants_And_Mood_Stabilisers                        3424 non-null   int64 \n",
      " 43  Concom_Fluoroquinolones                                             3424 non-null   int64 \n",
      " 44  Concom_Cephalosporins                                               3424 non-null   int64 \n",
      " 45  Concom_Macrolides_And_Similar_Types                                 3424 non-null   int64 \n",
      " 46  Concom_Broad_Spectrum_Penicillins                                   3424 non-null   int64 \n",
      " 47  Concom_Anaesthetics_General                                         3424 non-null   int64 \n",
      " 48  Concom_Viral_Vaccines                                               3424 non-null   int64 \n",
      " 49  Risk_Type_1_Insulin_Dependent_Diabetes                              3424 non-null   int64 \n",
      " 50  Risk_Osteogenesis_Imperfecta                                        3424 non-null   int64 \n",
      " 51  Risk_Rheumatoid_Arthritis                                           3424 non-null   int64 \n",
      " 52  Risk_Untreated_Chronic_Hyperthyroidism                              3424 non-null   int64 \n",
      " 53  Risk_Untreated_Chronic_Hypogonadism                                 3424 non-null   int64 \n",
      " 54  Risk_Untreated_Early_Menopause                                      3424 non-null   int64 \n",
      " 55  Risk_Patient_Parent_Fractured_Their_Hip                             3424 non-null   int64 \n",
      " 56  Risk_Smoking_Tobacco                                                3424 non-null   int64 \n",
      " 57  Risk_Chronic_Malnutrition_Or_Malabsorption                          3424 non-null   int64 \n",
      " 58  Risk_Chronic_Liver_Disease                                          3424 non-null   int64 \n",
      " 59  Risk_Family_History_Of_Osteoporosis                                 3424 non-null   int64 \n",
      " 60  Risk_Low_Calcium_Intake                                             3424 non-null   int64 \n",
      " 61  Risk_Vitamin_D_Insufficiency                                        3424 non-null   int64 \n",
      " 62  Risk_Poor_Health_Frailty                                            3424 non-null   int64 \n",
      " 63  Risk_Excessive_Thinness                                             3424 non-null   int64 \n",
      " 64  Risk_Hysterectomy_Oophorectomy                                      3424 non-null   int64 \n",
      " 65  Risk_Estrogen_Deficiency                                            3424 non-null   int64 \n",
      " 66  Risk_Immobilization                                                 3424 non-null   int64 \n",
      " 67  Risk_Recurring_Falls                                                3424 non-null   int64 \n",
      " 68  Count_Of_Risks                                                      3424 non-null   int64 \n",
      "dtypes: int64(58), object(11)\n",
      "memory usage: 1.8+ MB\n"
     ]
    }
   ],
   "source": [
    "df_healthcare.info()"
   ]
  },
  {
   "cell_type": "code",
   "execution_count": 26,
   "id": "167e18bc",
   "metadata": {},
   "outputs": [],
   "source": [
    "df_healthcare_final = pd.get_dummies(df_healthcare, columns=['Race','Ethnicity','Region','Age_Bucket','Ntm_Speciality','Ntm_Speciality_Bucket','Risk_Segment_During_Rx','Tscore_Bucket_During_Rx','Change_T_Score','Change_Risk_Segment'])\n",
    "                                                             \n",
    "                                    "
   ]
  },
  {
   "cell_type": "code",
   "execution_count": 30,
   "id": "9177abba",
   "metadata": {},
   "outputs": [
    {
     "data": {
      "text/html": [
       "<div>\n",
       "<style scoped>\n",
       "    .dataframe tbody tr th:only-of-type {\n",
       "        vertical-align: middle;\n",
       "    }\n",
       "\n",
       "    .dataframe tbody tr th {\n",
       "        vertical-align: top;\n",
       "    }\n",
       "\n",
       "    .dataframe thead th {\n",
       "        text-align: right;\n",
       "    }\n",
       "</style>\n",
       "<table border=\"1\" class=\"dataframe\">\n",
       "  <thead>\n",
       "    <tr style=\"text-align: right;\">\n",
       "      <th></th>\n",
       "      <th>Ptid</th>\n",
       "      <th>Persistency_Flag</th>\n",
       "      <th>Gender</th>\n",
       "      <th>Race</th>\n",
       "      <th>Ethnicity</th>\n",
       "      <th>Region</th>\n",
       "      <th>Age_Bucket</th>\n",
       "      <th>Ntm_Speciality</th>\n",
       "      <th>Ntm_Specialist_Flag</th>\n",
       "      <th>Ntm_Speciality_Bucket</th>\n",
       "      <th>...</th>\n",
       "      <th>Risk_Family_History_Of_Osteoporosis</th>\n",
       "      <th>Risk_Low_Calcium_Intake</th>\n",
       "      <th>Risk_Vitamin_D_Insufficiency</th>\n",
       "      <th>Risk_Poor_Health_Frailty</th>\n",
       "      <th>Risk_Excessive_Thinness</th>\n",
       "      <th>Risk_Hysterectomy_Oophorectomy</th>\n",
       "      <th>Risk_Estrogen_Deficiency</th>\n",
       "      <th>Risk_Immobilization</th>\n",
       "      <th>Risk_Recurring_Falls</th>\n",
       "      <th>Count_Of_Risks</th>\n",
       "    </tr>\n",
       "  </thead>\n",
       "  <tbody>\n",
       "    <tr>\n",
       "      <th>3419</th>\n",
       "      <td>P3420</td>\n",
       "      <td>0</td>\n",
       "      <td>1</td>\n",
       "      <td>Caucasian</td>\n",
       "      <td>Not Hispanic</td>\n",
       "      <td>South</td>\n",
       "      <td>&gt;75</td>\n",
       "      <td>GENERAL PRACTITIONER</td>\n",
       "      <td>0</td>\n",
       "      <td>OB/GYN/Others/PCP/Unknown</td>\n",
       "      <td>...</td>\n",
       "      <td>0</td>\n",
       "      <td>0</td>\n",
       "      <td>1</td>\n",
       "      <td>0</td>\n",
       "      <td>0</td>\n",
       "      <td>0</td>\n",
       "      <td>0</td>\n",
       "      <td>0</td>\n",
       "      <td>0</td>\n",
       "      <td>1</td>\n",
       "    </tr>\n",
       "    <tr>\n",
       "      <th>3420</th>\n",
       "      <td>P3421</td>\n",
       "      <td>0</td>\n",
       "      <td>1</td>\n",
       "      <td>Caucasian</td>\n",
       "      <td>Not Hispanic</td>\n",
       "      <td>South</td>\n",
       "      <td>&gt;75</td>\n",
       "      <td>Unknown</td>\n",
       "      <td>0</td>\n",
       "      <td>OB/GYN/Others/PCP/Unknown</td>\n",
       "      <td>...</td>\n",
       "      <td>0</td>\n",
       "      <td>0</td>\n",
       "      <td>0</td>\n",
       "      <td>0</td>\n",
       "      <td>0</td>\n",
       "      <td>0</td>\n",
       "      <td>0</td>\n",
       "      <td>0</td>\n",
       "      <td>0</td>\n",
       "      <td>0</td>\n",
       "    </tr>\n",
       "    <tr>\n",
       "      <th>3421</th>\n",
       "      <td>P3422</td>\n",
       "      <td>0</td>\n",
       "      <td>1</td>\n",
       "      <td>Caucasian</td>\n",
       "      <td>Not Hispanic</td>\n",
       "      <td>South</td>\n",
       "      <td>&gt;75</td>\n",
       "      <td>ENDOCRINOLOGY</td>\n",
       "      <td>1</td>\n",
       "      <td>Endo/Onc/Uro</td>\n",
       "      <td>...</td>\n",
       "      <td>0</td>\n",
       "      <td>0</td>\n",
       "      <td>1</td>\n",
       "      <td>0</td>\n",
       "      <td>0</td>\n",
       "      <td>0</td>\n",
       "      <td>0</td>\n",
       "      <td>0</td>\n",
       "      <td>0</td>\n",
       "      <td>1</td>\n",
       "    </tr>\n",
       "    <tr>\n",
       "      <th>3422</th>\n",
       "      <td>P3423</td>\n",
       "      <td>1</td>\n",
       "      <td>1</td>\n",
       "      <td>Caucasian</td>\n",
       "      <td>Not Hispanic</td>\n",
       "      <td>South</td>\n",
       "      <td>55-65</td>\n",
       "      <td>Unknown</td>\n",
       "      <td>0</td>\n",
       "      <td>OB/GYN/Others/PCP/Unknown</td>\n",
       "      <td>...</td>\n",
       "      <td>0</td>\n",
       "      <td>0</td>\n",
       "      <td>0</td>\n",
       "      <td>0</td>\n",
       "      <td>0</td>\n",
       "      <td>0</td>\n",
       "      <td>0</td>\n",
       "      <td>0</td>\n",
       "      <td>0</td>\n",
       "      <td>0</td>\n",
       "    </tr>\n",
       "    <tr>\n",
       "      <th>3423</th>\n",
       "      <td>P3424</td>\n",
       "      <td>1</td>\n",
       "      <td>1</td>\n",
       "      <td>Caucasian</td>\n",
       "      <td>Not Hispanic</td>\n",
       "      <td>South</td>\n",
       "      <td>65-75</td>\n",
       "      <td>Unknown</td>\n",
       "      <td>0</td>\n",
       "      <td>OB/GYN/Others/PCP/Unknown</td>\n",
       "      <td>...</td>\n",
       "      <td>0</td>\n",
       "      <td>0</td>\n",
       "      <td>1</td>\n",
       "      <td>0</td>\n",
       "      <td>0</td>\n",
       "      <td>0</td>\n",
       "      <td>0</td>\n",
       "      <td>0</td>\n",
       "      <td>0</td>\n",
       "      <td>1</td>\n",
       "    </tr>\n",
       "  </tbody>\n",
       "</table>\n",
       "<p>5 rows × 69 columns</p>\n",
       "</div>"
      ],
      "text/plain": [
       "       Ptid  Persistency_Flag  Gender       Race     Ethnicity Region  \\\n",
       "3419  P3420                 0       1  Caucasian  Not Hispanic  South   \n",
       "3420  P3421                 0       1  Caucasian  Not Hispanic  South   \n",
       "3421  P3422                 0       1  Caucasian  Not Hispanic  South   \n",
       "3422  P3423                 1       1  Caucasian  Not Hispanic  South   \n",
       "3423  P3424                 1       1  Caucasian  Not Hispanic  South   \n",
       "\n",
       "     Age_Bucket        Ntm_Speciality  Ntm_Specialist_Flag  \\\n",
       "3419        >75  GENERAL PRACTITIONER                    0   \n",
       "3420        >75               Unknown                    0   \n",
       "3421        >75         ENDOCRINOLOGY                    1   \n",
       "3422      55-65               Unknown                    0   \n",
       "3423      65-75               Unknown                    0   \n",
       "\n",
       "          Ntm_Speciality_Bucket  ...  Risk_Family_History_Of_Osteoporosis  \\\n",
       "3419  OB/GYN/Others/PCP/Unknown  ...                                    0   \n",
       "3420  OB/GYN/Others/PCP/Unknown  ...                                    0   \n",
       "3421               Endo/Onc/Uro  ...                                    0   \n",
       "3422  OB/GYN/Others/PCP/Unknown  ...                                    0   \n",
       "3423  OB/GYN/Others/PCP/Unknown  ...                                    0   \n",
       "\n",
       "      Risk_Low_Calcium_Intake  Risk_Vitamin_D_Insufficiency  \\\n",
       "3419                        0                             1   \n",
       "3420                        0                             0   \n",
       "3421                        0                             1   \n",
       "3422                        0                             0   \n",
       "3423                        0                             1   \n",
       "\n",
       "      Risk_Poor_Health_Frailty  Risk_Excessive_Thinness  \\\n",
       "3419                         0                        0   \n",
       "3420                         0                        0   \n",
       "3421                         0                        0   \n",
       "3422                         0                        0   \n",
       "3423                         0                        0   \n",
       "\n",
       "      Risk_Hysterectomy_Oophorectomy  Risk_Estrogen_Deficiency  \\\n",
       "3419                               0                         0   \n",
       "3420                               0                         0   \n",
       "3421                               0                         0   \n",
       "3422                               0                         0   \n",
       "3423                               0                         0   \n",
       "\n",
       "      Risk_Immobilization Risk_Recurring_Falls Count_Of_Risks  \n",
       "3419                    0                    0              1  \n",
       "3420                    0                    0              0  \n",
       "3421                    0                    0              1  \n",
       "3422                    0                    0              0  \n",
       "3423                    0                    0              1  \n",
       "\n",
       "[5 rows x 69 columns]"
      ]
     },
     "execution_count": 30,
     "metadata": {},
     "output_type": "execute_result"
    }
   ],
   "source": [
    "df_healthcare.tail()"
   ]
  },
  {
   "cell_type": "code",
   "execution_count": 27,
   "id": "203e5412",
   "metadata": {},
   "outputs": [
    {
     "data": {
      "text/html": [
       "<div>\n",
       "<style scoped>\n",
       "    .dataframe tbody tr th:only-of-type {\n",
       "        vertical-align: middle;\n",
       "    }\n",
       "\n",
       "    .dataframe tbody tr th {\n",
       "        vertical-align: top;\n",
       "    }\n",
       "\n",
       "    .dataframe thead th {\n",
       "        text-align: right;\n",
       "    }\n",
       "</style>\n",
       "<table border=\"1\" class=\"dataframe\">\n",
       "  <thead>\n",
       "    <tr style=\"text-align: right;\">\n",
       "      <th></th>\n",
       "      <th>Ptid</th>\n",
       "      <th>Persistency_Flag</th>\n",
       "      <th>Gender</th>\n",
       "      <th>Ntm_Specialist_Flag</th>\n",
       "      <th>Gluco_Record_Prior_Ntm</th>\n",
       "      <th>Gluco_Record_During_Rx</th>\n",
       "      <th>Dexa_Freq_During_Rx</th>\n",
       "      <th>Dexa_During_Rx</th>\n",
       "      <th>Frag_Frac_Prior_Ntm</th>\n",
       "      <th>Frag_Frac_During_Rx</th>\n",
       "      <th>...</th>\n",
       "      <th>Tscore_Bucket_During_Rx_&gt;-2.5</th>\n",
       "      <th>Tscore_Bucket_During_Rx_Unknown</th>\n",
       "      <th>Change_T_Score_Improved</th>\n",
       "      <th>Change_T_Score_No change</th>\n",
       "      <th>Change_T_Score_Unknown</th>\n",
       "      <th>Change_T_Score_Worsened</th>\n",
       "      <th>Change_Risk_Segment_Improved</th>\n",
       "      <th>Change_Risk_Segment_No change</th>\n",
       "      <th>Change_Risk_Segment_Unknown</th>\n",
       "      <th>Change_Risk_Segment_Worsened</th>\n",
       "    </tr>\n",
       "  </thead>\n",
       "  <tbody>\n",
       "    <tr>\n",
       "      <th>3419</th>\n",
       "      <td>P3420</td>\n",
       "      <td>0</td>\n",
       "      <td>1</td>\n",
       "      <td>0</td>\n",
       "      <td>0</td>\n",
       "      <td>0</td>\n",
       "      <td>0</td>\n",
       "      <td>0</td>\n",
       "      <td>0</td>\n",
       "      <td>0</td>\n",
       "      <td>...</td>\n",
       "      <td>0</td>\n",
       "      <td>1</td>\n",
       "      <td>0</td>\n",
       "      <td>0</td>\n",
       "      <td>1</td>\n",
       "      <td>0</td>\n",
       "      <td>0</td>\n",
       "      <td>0</td>\n",
       "      <td>1</td>\n",
       "      <td>0</td>\n",
       "    </tr>\n",
       "    <tr>\n",
       "      <th>3420</th>\n",
       "      <td>P3421</td>\n",
       "      <td>0</td>\n",
       "      <td>1</td>\n",
       "      <td>0</td>\n",
       "      <td>0</td>\n",
       "      <td>0</td>\n",
       "      <td>0</td>\n",
       "      <td>0</td>\n",
       "      <td>0</td>\n",
       "      <td>0</td>\n",
       "      <td>...</td>\n",
       "      <td>0</td>\n",
       "      <td>1</td>\n",
       "      <td>0</td>\n",
       "      <td>0</td>\n",
       "      <td>1</td>\n",
       "      <td>0</td>\n",
       "      <td>0</td>\n",
       "      <td>0</td>\n",
       "      <td>1</td>\n",
       "      <td>0</td>\n",
       "    </tr>\n",
       "    <tr>\n",
       "      <th>3421</th>\n",
       "      <td>P3422</td>\n",
       "      <td>0</td>\n",
       "      <td>1</td>\n",
       "      <td>1</td>\n",
       "      <td>0</td>\n",
       "      <td>0</td>\n",
       "      <td>7</td>\n",
       "      <td>1</td>\n",
       "      <td>0</td>\n",
       "      <td>0</td>\n",
       "      <td>...</td>\n",
       "      <td>0</td>\n",
       "      <td>0</td>\n",
       "      <td>0</td>\n",
       "      <td>1</td>\n",
       "      <td>0</td>\n",
       "      <td>0</td>\n",
       "      <td>0</td>\n",
       "      <td>0</td>\n",
       "      <td>0</td>\n",
       "      <td>1</td>\n",
       "    </tr>\n",
       "    <tr>\n",
       "      <th>3422</th>\n",
       "      <td>P3423</td>\n",
       "      <td>1</td>\n",
       "      <td>1</td>\n",
       "      <td>0</td>\n",
       "      <td>0</td>\n",
       "      <td>0</td>\n",
       "      <td>0</td>\n",
       "      <td>0</td>\n",
       "      <td>0</td>\n",
       "      <td>1</td>\n",
       "      <td>...</td>\n",
       "      <td>0</td>\n",
       "      <td>1</td>\n",
       "      <td>0</td>\n",
       "      <td>0</td>\n",
       "      <td>1</td>\n",
       "      <td>0</td>\n",
       "      <td>0</td>\n",
       "      <td>0</td>\n",
       "      <td>1</td>\n",
       "      <td>0</td>\n",
       "    </tr>\n",
       "    <tr>\n",
       "      <th>3423</th>\n",
       "      <td>P3424</td>\n",
       "      <td>1</td>\n",
       "      <td>1</td>\n",
       "      <td>0</td>\n",
       "      <td>1</td>\n",
       "      <td>1</td>\n",
       "      <td>0</td>\n",
       "      <td>0</td>\n",
       "      <td>0</td>\n",
       "      <td>0</td>\n",
       "      <td>...</td>\n",
       "      <td>0</td>\n",
       "      <td>1</td>\n",
       "      <td>0</td>\n",
       "      <td>0</td>\n",
       "      <td>1</td>\n",
       "      <td>0</td>\n",
       "      <td>0</td>\n",
       "      <td>0</td>\n",
       "      <td>1</td>\n",
       "      <td>0</td>\n",
       "    </tr>\n",
       "  </tbody>\n",
       "</table>\n",
       "<p>5 rows × 128 columns</p>\n",
       "</div>"
      ],
      "text/plain": [
       "       Ptid  Persistency_Flag  Gender  Ntm_Specialist_Flag  \\\n",
       "3419  P3420                 0       1                    0   \n",
       "3420  P3421                 0       1                    0   \n",
       "3421  P3422                 0       1                    1   \n",
       "3422  P3423                 1       1                    0   \n",
       "3423  P3424                 1       1                    0   \n",
       "\n",
       "      Gluco_Record_Prior_Ntm  Gluco_Record_During_Rx  Dexa_Freq_During_Rx  \\\n",
       "3419                       0                       0                    0   \n",
       "3420                       0                       0                    0   \n",
       "3421                       0                       0                    7   \n",
       "3422                       0                       0                    0   \n",
       "3423                       1                       1                    0   \n",
       "\n",
       "      Dexa_During_Rx  Frag_Frac_Prior_Ntm  Frag_Frac_During_Rx  ...  \\\n",
       "3419               0                    0                    0  ...   \n",
       "3420               0                    0                    0  ...   \n",
       "3421               1                    0                    0  ...   \n",
       "3422               0                    0                    1  ...   \n",
       "3423               0                    0                    0  ...   \n",
       "\n",
       "      Tscore_Bucket_During_Rx_>-2.5  Tscore_Bucket_During_Rx_Unknown  \\\n",
       "3419                              0                                1   \n",
       "3420                              0                                1   \n",
       "3421                              0                                0   \n",
       "3422                              0                                1   \n",
       "3423                              0                                1   \n",
       "\n",
       "      Change_T_Score_Improved  Change_T_Score_No change  \\\n",
       "3419                        0                         0   \n",
       "3420                        0                         0   \n",
       "3421                        0                         1   \n",
       "3422                        0                         0   \n",
       "3423                        0                         0   \n",
       "\n",
       "      Change_T_Score_Unknown  Change_T_Score_Worsened  \\\n",
       "3419                       1                        0   \n",
       "3420                       1                        0   \n",
       "3421                       0                        0   \n",
       "3422                       1                        0   \n",
       "3423                       1                        0   \n",
       "\n",
       "      Change_Risk_Segment_Improved  Change_Risk_Segment_No change  \\\n",
       "3419                             0                              0   \n",
       "3420                             0                              0   \n",
       "3421                             0                              0   \n",
       "3422                             0                              0   \n",
       "3423                             0                              0   \n",
       "\n",
       "      Change_Risk_Segment_Unknown  Change_Risk_Segment_Worsened  \n",
       "3419                            1                             0  \n",
       "3420                            1                             0  \n",
       "3421                            0                             1  \n",
       "3422                            1                             0  \n",
       "3423                            1                             0  \n",
       "\n",
       "[5 rows x 128 columns]"
      ]
     },
     "execution_count": 27,
     "metadata": {},
     "output_type": "execute_result"
    }
   ],
   "source": [
    "df_healthcare_final.tail()"
   ]
  },
  {
   "cell_type": "code",
   "execution_count": 28,
   "id": "c950461f",
   "metadata": {},
   "outputs": [
    {
     "data": {
      "text/plain": [
       "(3424, 69)"
      ]
     },
     "execution_count": 28,
     "metadata": {},
     "output_type": "execute_result"
    }
   ],
   "source": [
    "df_healthcare.shape"
   ]
  },
  {
   "cell_type": "code",
   "execution_count": 29,
   "id": "b287ff8a",
   "metadata": {},
   "outputs": [
    {
     "data": {
      "text/plain": [
       "(3424, 128)"
      ]
     },
     "execution_count": 29,
     "metadata": {},
     "output_type": "execute_result"
    }
   ],
   "source": [
    "df_healthcare_final.shape"
   ]
  },
  {
   "cell_type": "code",
   "execution_count": 31,
   "id": "9c152304",
   "metadata": {},
   "outputs": [],
   "source": [
    "from sklearn.model_selection import train_test_split"
   ]
  },
  {
   "cell_type": "code",
   "execution_count": 32,
   "id": "e36e1999",
   "metadata": {},
   "outputs": [],
   "source": [
    "y  = df_healthcare_final['Persistency_Flag']\n",
    "x = df_healthcare_final.drop(['Persistency_Flag', 'Ptid'], axis =1)"
   ]
  },
  {
   "cell_type": "code",
   "execution_count": 33,
   "id": "9edd7be4",
   "metadata": {},
   "outputs": [
    {
     "data": {
      "text/plain": [
       "(3424, 126)"
      ]
     },
     "execution_count": 33,
     "metadata": {},
     "output_type": "execute_result"
    }
   ],
   "source": [
    "x.shape"
   ]
  },
  {
   "cell_type": "code",
   "execution_count": 34,
   "id": "60bb86a7",
   "metadata": {},
   "outputs": [
    {
     "data": {
      "text/plain": [
       "(3424,)"
      ]
     },
     "execution_count": 34,
     "metadata": {},
     "output_type": "execute_result"
    }
   ],
   "source": [
    "y.shape"
   ]
  },
  {
   "cell_type": "code",
   "execution_count": 39,
   "id": "19890269",
   "metadata": {},
   "outputs": [
    {
     "data": {
      "text/plain": [
       "array([0, 1])"
      ]
     },
     "execution_count": 39,
     "metadata": {},
     "output_type": "execute_result"
    }
   ],
   "source": [
    "df_healthcare_final['Persistency_Flag'].unique()"
   ]
  },
  {
   "cell_type": "code",
   "execution_count": 37,
   "id": "dbd35be0",
   "metadata": {},
   "outputs": [],
   "source": [
    "trainx, testx, trainy, testy = train_test_split(x,y, test_size=0.3, random_state=19)"
   ]
  },
  {
   "cell_type": "code",
   "execution_count": 40,
   "id": "df291449",
   "metadata": {},
   "outputs": [],
   "source": [
    "from sklearn.linear_model import LogisticRegression"
   ]
  },
  {
   "cell_type": "code",
   "execution_count": 41,
   "id": "244052a4",
   "metadata": {},
   "outputs": [],
   "source": [
    "logreg = LogisticRegression(max_iter=1000)"
   ]
  },
  {
   "cell_type": "code",
   "execution_count": 42,
   "id": "ef9470b3",
   "metadata": {},
   "outputs": [
    {
     "data": {
      "text/plain": [
       "LogisticRegression(max_iter=1000)"
      ]
     },
     "execution_count": 42,
     "metadata": {},
     "output_type": "execute_result"
    }
   ],
   "source": [
    "logreg.fit(trainx, trainy)"
   ]
  },
  {
   "cell_type": "code",
   "execution_count": 43,
   "id": "a13f18f9",
   "metadata": {},
   "outputs": [
    {
     "data": {
      "text/plain": [
       "0.8326377295492488"
      ]
     },
     "execution_count": 43,
     "metadata": {},
     "output_type": "execute_result"
    }
   ],
   "source": [
    "logreg.score(trainx, trainy)"
   ]
  },
  {
   "cell_type": "code",
   "execution_count": 44,
   "id": "e3daa45a",
   "metadata": {},
   "outputs": [],
   "source": [
    "logpre = logreg.predict(testx)"
   ]
  },
  {
   "cell_type": "code",
   "execution_count": 45,
   "id": "7e5f8e8c",
   "metadata": {},
   "outputs": [],
   "source": [
    "from sklearn.metrics import accuracy_score"
   ]
  },
  {
   "cell_type": "code",
   "execution_count": 46,
   "id": "85c502d0",
   "metadata": {},
   "outputs": [
    {
     "data": {
      "text/plain": [
       "0.8093385214007782"
      ]
     },
     "execution_count": 46,
     "metadata": {},
     "output_type": "execute_result"
    }
   ],
   "source": [
    "accuracy_score(testy,logpre)"
   ]
  },
  {
   "cell_type": "code",
   "execution_count": 48,
   "id": "d48b6dae",
   "metadata": {},
   "outputs": [],
   "source": [
    "from sklearn.tree import DecisionTreeClassifier\n",
    "from sklearn.ensemble import RandomForestClassifier"
   ]
  },
  {
   "cell_type": "code",
   "execution_count": 49,
   "id": "d29f526f",
   "metadata": {},
   "outputs": [],
   "source": [
    "dec = DecisionTreeClassifier()\n",
    "rand = RandomForestClassifier()"
   ]
  },
  {
   "cell_type": "code",
   "execution_count": 50,
   "id": "d061659a",
   "metadata": {},
   "outputs": [
    {
     "data": {
      "text/plain": [
       "DecisionTreeClassifier()"
      ]
     },
     "execution_count": 50,
     "metadata": {},
     "output_type": "execute_result"
    }
   ],
   "source": [
    "dec.fit(trainx,trainy)"
   ]
  },
  {
   "cell_type": "code",
   "execution_count": 51,
   "id": "c2d02eb1",
   "metadata": {},
   "outputs": [
    {
     "data": {
      "text/plain": [
       "RandomForestClassifier()"
      ]
     },
     "execution_count": 51,
     "metadata": {},
     "output_type": "execute_result"
    }
   ],
   "source": [
    "rand.fit(trainx,trainy)"
   ]
  },
  {
   "cell_type": "code",
   "execution_count": 52,
   "id": "3aeb1d7d",
   "metadata": {},
   "outputs": [],
   "source": [
    "decpre = dec.predict(testx)\n",
    "randpre = rand.predict(testx)"
   ]
  },
  {
   "cell_type": "code",
   "execution_count": 54,
   "id": "5c2c182e",
   "metadata": {},
   "outputs": [
    {
     "data": {
      "text/plain": [
       "0.8171206225680934"
      ]
     },
     "execution_count": 54,
     "metadata": {},
     "output_type": "execute_result"
    }
   ],
   "source": [
    "accuracy_score(testy,randpre)"
   ]
  },
  {
   "cell_type": "code",
   "execution_count": 55,
   "id": "a00b9767",
   "metadata": {},
   "outputs": [
    {
     "data": {
      "text/plain": [
       "0.7334630350194552"
      ]
     },
     "execution_count": 55,
     "metadata": {},
     "output_type": "execute_result"
    }
   ],
   "source": [
    "accuracy_score(testy,decpre)"
   ]
  },
  {
   "cell_type": "code",
   "execution_count": 58,
   "id": "ccb584e3",
   "metadata": {},
   "outputs": [
    {
     "data": {
      "text/plain": [
       "(3424, 128)"
      ]
     },
     "execution_count": 58,
     "metadata": {},
     "output_type": "execute_result"
    }
   ],
   "source": [
    "df_healthcare_final.shape"
   ]
  },
  {
   "cell_type": "code",
   "execution_count": 57,
   "id": "f16fee66",
   "metadata": {},
   "outputs": [],
   "source": [
    "for i in df_healthcare_final.columns:\n",
    "    if(len(df_healthcare_final[i].unique()) == 1):\n",
    "        df_healthcare_final.drop(i, axis=1, inplace = True)"
   ]
  },
  {
   "cell_type": "code",
   "execution_count": 59,
   "id": "5797412a",
   "metadata": {},
   "outputs": [],
   "source": [
    "df_corr = df_healthcare_final.corr()"
   ]
  },
  {
   "cell_type": "code",
   "execution_count": 63,
   "id": "751a2e3e",
   "metadata": {},
   "outputs": [
    {
     "data": {
      "text/plain": [
       "(3424, 128)"
      ]
     },
     "execution_count": 63,
     "metadata": {},
     "output_type": "execute_result"
    }
   ],
   "source": [
    "df_healthcare_final.shape"
   ]
  },
  {
   "cell_type": "code",
   "execution_count": 64,
   "id": "c93e41f1",
   "metadata": {},
   "outputs": [
    {
     "data": {
      "text/plain": [
       "(127, 127)"
      ]
     },
     "execution_count": 64,
     "metadata": {},
     "output_type": "execute_result"
    }
   ],
   "source": [
    "df_corr.shape"
   ]
  },
  {
   "cell_type": "code",
   "execution_count": 62,
   "id": "1e5db9d5",
   "metadata": {},
   "outputs": [
    {
     "data": {
      "text/plain": [
       "<AxesSubplot:>"
      ]
     },
     "execution_count": 62,
     "metadata": {},
     "output_type": "execute_result"
    },
    {
     "data": {
      "image/png": "[encoded data removed]",
      "text/plain": [
       "<Figure size 432x288 with 2 Axes>"
      ]
     },
     "metadata": {
      "needs_background": "light"
     },
     "output_type": "display_data"
    }
   ],
   "source": [
    "sns.heatmap(df_corr)"
   ]
  },
  {
   "cell_type": "code",
   "execution_count": 96,
   "id": "e37ff893",
   "metadata": {},
   "outputs": [],
   "source": [
    "corr_col = []\n",
    "for i in range(len(df_corr.index)):\n",
    "    for j in range(i):\n",
    "        if((df_corr.iloc[i,j])>0.75):\n",
    "            corr_col.append(df_corr.columns[j])"
   ]
  },
  {
   "cell_type": "code",
   "execution_count": 98,
   "id": "27339502",
   "metadata": {},
   "outputs": [
    {
     "data": {
      "text/plain": [
       "['Risk_Segment_Prior_Ntm',\n",
       " 'Gluco_Record_During_Rx',\n",
       " 'Ntm_Speciality_ENDOCRINOLOGY',\n",
       " 'Ntm_Speciality_RHEUMATOLOGY',\n",
       " 'Risk_Segment_During_Rx_HR_VHR',\n",
       " 'Risk_Segment_During_Rx_VLR_LR',\n",
       " 'Risk_Segment_During_Rx_Unknown',\n",
       " 'Risk_Segment_During_Rx_Unknown',\n",
       " 'Tscore_Bucket_During_Rx_Unknown']"
      ]
     },
     "execution_count": 98,
     "metadata": {},
     "output_type": "execute_result"
    }
   ],
   "source": [
    "corr_col"
   ]
  },
  {
   "cell_type": "code",
   "execution_count": 99,
   "id": "a3dc822c",
   "metadata": {},
   "outputs": [
    {
     "data": {
      "text/plain": [
       "9"
      ]
     },
     "execution_count": 99,
     "metadata": {},
     "output_type": "execute_result"
    }
   ],
   "source": [
    "len(corr_col)"
   ]
  },
  {
   "cell_type": "code",
   "execution_count": 100,
   "id": "cf8cfaf3",
   "metadata": {},
   "outputs": [],
   "source": [
    "df_healthcare_final2 = df_healthcare_final.drop(corr_col, axis=1)"
   ]
  },
  {
   "cell_type": "code",
   "execution_count": 101,
   "id": "d6d2f131",
   "metadata": {},
   "outputs": [
    {
     "data": {
      "text/plain": [
       "(3424, 128)"
      ]
     },
     "execution_count": 101,
     "metadata": {},
     "output_type": "execute_result"
    }
   ],
   "source": [
    " df_healthcare_final.shape"
   ]
  },
  {
   "cell_type": "code",
   "execution_count": 102,
   "id": "19b63d6f",
   "metadata": {},
   "outputs": [
    {
     "data": {
      "text/plain": [
       "(3424, 120)"
      ]
     },
     "execution_count": 102,
     "metadata": {},
     "output_type": "execute_result"
    }
   ],
   "source": [
    " df_healthcare_final2.shape"
   ]
  },
  {
   "cell_type": "code",
   "execution_count": 103,
   "id": "4505bf89",
   "metadata": {},
   "outputs": [
    {
     "data": {
      "text/html": [
       "<div>\n",
       "<style scoped>\n",
       "    .dataframe tbody tr th:only-of-type {\n",
       "        vertical-align: middle;\n",
       "    }\n",
       "\n",
       "    .dataframe tbody tr th {\n",
       "        vertical-align: top;\n",
       "    }\n",
       "\n",
       "    .dataframe thead th {\n",
       "        text-align: right;\n",
       "    }\n",
       "</style>\n",
       "<table border=\"1\" class=\"dataframe\">\n",
       "  <thead>\n",
       "    <tr style=\"text-align: right;\">\n",
       "      <th></th>\n",
       "      <th>Ptid</th>\n",
       "      <th>Persistency_Flag</th>\n",
       "      <th>Gender</th>\n",
       "      <th>Ntm_Specialist_Flag</th>\n",
       "      <th>Gluco_Record_Prior_Ntm</th>\n",
       "      <th>Dexa_Freq_During_Rx</th>\n",
       "      <th>Dexa_During_Rx</th>\n",
       "      <th>Frag_Frac_Prior_Ntm</th>\n",
       "      <th>Frag_Frac_During_Rx</th>\n",
       "      <th>Tscore_Bucket_Prior_Ntm</th>\n",
       "      <th>...</th>\n",
       "      <th>Tscore_Bucket_During_Rx_&lt;=-2.5</th>\n",
       "      <th>Tscore_Bucket_During_Rx_&gt;-2.5</th>\n",
       "      <th>Change_T_Score_Improved</th>\n",
       "      <th>Change_T_Score_No change</th>\n",
       "      <th>Change_T_Score_Unknown</th>\n",
       "      <th>Change_T_Score_Worsened</th>\n",
       "      <th>Change_Risk_Segment_Improved</th>\n",
       "      <th>Change_Risk_Segment_No change</th>\n",
       "      <th>Change_Risk_Segment_Unknown</th>\n",
       "      <th>Change_Risk_Segment_Worsened</th>\n",
       "    </tr>\n",
       "  </thead>\n",
       "  <tbody>\n",
       "    <tr>\n",
       "      <th>3419</th>\n",
       "      <td>P3420</td>\n",
       "      <td>0</td>\n",
       "      <td>1</td>\n",
       "      <td>0</td>\n",
       "      <td>0</td>\n",
       "      <td>0</td>\n",
       "      <td>0</td>\n",
       "      <td>0</td>\n",
       "      <td>0</td>\n",
       "      <td>0</td>\n",
       "      <td>...</td>\n",
       "      <td>0</td>\n",
       "      <td>0</td>\n",
       "      <td>0</td>\n",
       "      <td>0</td>\n",
       "      <td>1</td>\n",
       "      <td>0</td>\n",
       "      <td>0</td>\n",
       "      <td>0</td>\n",
       "      <td>1</td>\n",
       "      <td>0</td>\n",
       "    </tr>\n",
       "    <tr>\n",
       "      <th>3420</th>\n",
       "      <td>P3421</td>\n",
       "      <td>0</td>\n",
       "      <td>1</td>\n",
       "      <td>0</td>\n",
       "      <td>0</td>\n",
       "      <td>0</td>\n",
       "      <td>0</td>\n",
       "      <td>0</td>\n",
       "      <td>0</td>\n",
       "      <td>1</td>\n",
       "      <td>...</td>\n",
       "      <td>0</td>\n",
       "      <td>0</td>\n",
       "      <td>0</td>\n",
       "      <td>0</td>\n",
       "      <td>1</td>\n",
       "      <td>0</td>\n",
       "      <td>0</td>\n",
       "      <td>0</td>\n",
       "      <td>1</td>\n",
       "      <td>0</td>\n",
       "    </tr>\n",
       "    <tr>\n",
       "      <th>3421</th>\n",
       "      <td>P3422</td>\n",
       "      <td>0</td>\n",
       "      <td>1</td>\n",
       "      <td>1</td>\n",
       "      <td>0</td>\n",
       "      <td>7</td>\n",
       "      <td>1</td>\n",
       "      <td>0</td>\n",
       "      <td>0</td>\n",
       "      <td>0</td>\n",
       "      <td>...</td>\n",
       "      <td>1</td>\n",
       "      <td>0</td>\n",
       "      <td>0</td>\n",
       "      <td>1</td>\n",
       "      <td>0</td>\n",
       "      <td>0</td>\n",
       "      <td>0</td>\n",
       "      <td>0</td>\n",
       "      <td>0</td>\n",
       "      <td>1</td>\n",
       "    </tr>\n",
       "    <tr>\n",
       "      <th>3422</th>\n",
       "      <td>P3423</td>\n",
       "      <td>1</td>\n",
       "      <td>1</td>\n",
       "      <td>0</td>\n",
       "      <td>0</td>\n",
       "      <td>0</td>\n",
       "      <td>0</td>\n",
       "      <td>0</td>\n",
       "      <td>1</td>\n",
       "      <td>0</td>\n",
       "      <td>...</td>\n",
       "      <td>0</td>\n",
       "      <td>0</td>\n",
       "      <td>0</td>\n",
       "      <td>0</td>\n",
       "      <td>1</td>\n",
       "      <td>0</td>\n",
       "      <td>0</td>\n",
       "      <td>0</td>\n",
       "      <td>1</td>\n",
       "      <td>0</td>\n",
       "    </tr>\n",
       "    <tr>\n",
       "      <th>3423</th>\n",
       "      <td>P3424</td>\n",
       "      <td>1</td>\n",
       "      <td>1</td>\n",
       "      <td>0</td>\n",
       "      <td>1</td>\n",
       "      <td>0</td>\n",
       "      <td>0</td>\n",
       "      <td>0</td>\n",
       "      <td>0</td>\n",
       "      <td>0</td>\n",
       "      <td>...</td>\n",
       "      <td>0</td>\n",
       "      <td>0</td>\n",
       "      <td>0</td>\n",
       "      <td>0</td>\n",
       "      <td>1</td>\n",
       "      <td>0</td>\n",
       "      <td>0</td>\n",
       "      <td>0</td>\n",
       "      <td>1</td>\n",
       "      <td>0</td>\n",
       "    </tr>\n",
       "  </tbody>\n",
       "</table>\n",
       "<p>5 rows × 120 columns</p>\n",
       "</div>"
      ],
      "text/plain": [
       "       Ptid  Persistency_Flag  Gender  Ntm_Specialist_Flag  \\\n",
       "3419  P3420                 0       1                    0   \n",
       "3420  P3421                 0       1                    0   \n",
       "3421  P3422                 0       1                    1   \n",
       "3422  P3423                 1       1                    0   \n",
       "3423  P3424                 1       1                    0   \n",
       "\n",
       "      Gluco_Record_Prior_Ntm  Dexa_Freq_During_Rx  Dexa_During_Rx  \\\n",
       "3419                       0                    0               0   \n",
       "3420                       0                    0               0   \n",
       "3421                       0                    7               1   \n",
       "3422                       0                    0               0   \n",
       "3423                       1                    0               0   \n",
       "\n",
       "      Frag_Frac_Prior_Ntm  Frag_Frac_During_Rx  Tscore_Bucket_Prior_Ntm  ...  \\\n",
       "3419                    0                    0                        0  ...   \n",
       "3420                    0                    0                        1  ...   \n",
       "3421                    0                    0                        0  ...   \n",
       "3422                    0                    1                        0  ...   \n",
       "3423                    0                    0                        0  ...   \n",
       "\n",
       "      Tscore_Bucket_During_Rx_<=-2.5  Tscore_Bucket_During_Rx_>-2.5  \\\n",
       "3419                               0                              0   \n",
       "3420                               0                              0   \n",
       "3421                               1                              0   \n",
       "3422                               0                              0   \n",
       "3423                               0                              0   \n",
       "\n",
       "      Change_T_Score_Improved  Change_T_Score_No change  \\\n",
       "3419                        0                         0   \n",
       "3420                        0                         0   \n",
       "3421                        0                         1   \n",
       "3422                        0                         0   \n",
       "3423                        0                         0   \n",
       "\n",
       "      Change_T_Score_Unknown  Change_T_Score_Worsened  \\\n",
       "3419                       1                        0   \n",
       "3420                       1                        0   \n",
       "3421                       0                        0   \n",
       "3422                       1                        0   \n",
       "3423                       1                        0   \n",
       "\n",
       "      Change_Risk_Segment_Improved  Change_Risk_Segment_No change  \\\n",
       "3419                             0                              0   \n",
       "3420                             0                              0   \n",
       "3421                             0                              0   \n",
       "3422                             0                              0   \n",
       "3423                             0                              0   \n",
       "\n",
       "      Change_Risk_Segment_Unknown  Change_Risk_Segment_Worsened  \n",
       "3419                            1                             0  \n",
       "3420                            1                             0  \n",
       "3421                            0                             1  \n",
       "3422                            1                             0  \n",
       "3423                            1                             0  \n",
       "\n",
       "[5 rows x 120 columns]"
      ]
     },
     "execution_count": 103,
     "metadata": {},
     "output_type": "execute_result"
    }
   ],
   "source": [
    "df_healthcare_final2.tail()"
   ]
  },
  {
   "cell_type": "code",
   "execution_count": 104,
   "id": "99206de6",
   "metadata": {},
   "outputs": [],
   "source": [
    "y_cut = df_healthcare_final2['Persistency_Flag']\n",
    "x_cut = df_healthcare_final2.drop(['Ptid','Persistency_Flag'], axis=1)"
   ]
  },
  {
   "cell_type": "code",
   "execution_count": 105,
   "id": "e0678b19",
   "metadata": {},
   "outputs": [],
   "source": [
    "trainxcut, testxcut, trainycut, testycut = train_test_split(x_cut,y_cut, test_size=0.3, random_state=19)"
   ]
  },
  {
   "cell_type": "code",
   "execution_count": 118,
   "id": "8a8c4355",
   "metadata": {},
   "outputs": [],
   "source": [
    "logsi = LogisticRegression(max_iter=10000)\n",
    "dectree = DecisionTreeClassifier()\n",
    "randfore = RandomForestClassifier(n_estimators=200)"
   ]
  },
  {
   "cell_type": "code",
   "execution_count": 119,
   "id": "2e780300",
   "metadata": {},
   "outputs": [
    {
     "data": {
      "text/plain": [
       "LogisticRegression(max_iter=10000)"
      ]
     },
     "execution_count": 119,
     "metadata": {},
     "output_type": "execute_result"
    }
   ],
   "source": [
    "logsi.fit(trainxcut,trainycut)"
   ]
  },
  {
   "cell_type": "code",
   "execution_count": 120,
   "id": "fa324d2d",
   "metadata": {},
   "outputs": [
    {
     "data": {
      "text/plain": [
       "DecisionTreeClassifier()"
      ]
     },
     "execution_count": 120,
     "metadata": {},
     "output_type": "execute_result"
    }
   ],
   "source": [
    "dectree.fit(trainxcut,trainycut)"
   ]
  },
  {
   "cell_type": "code",
   "execution_count": 121,
   "id": "31aa7a31",
   "metadata": {},
   "outputs": [
    {
     "data": {
      "text/plain": [
       "RandomForestClassifier(n_estimators=200)"
      ]
     },
     "execution_count": 121,
     "metadata": {},
     "output_type": "execute_result"
    }
   ],
   "source": [
    "randfore.fit(trainxcut,trainycut)"
   ]
  },
  {
   "cell_type": "code",
   "execution_count": 122,
   "id": "6036bda0",
   "metadata": {},
   "outputs": [],
   "source": [
    "pred_logsi = logsi.predict(testxcut)"
   ]
  },
  {
   "cell_type": "code",
   "execution_count": 123,
   "id": "1c6123e6",
   "metadata": {},
   "outputs": [],
   "source": [
    "pred_dectree = dectree.predict(testxcut)"
   ]
  },
  {
   "cell_type": "code",
   "execution_count": 124,
   "id": "9470bcd1",
   "metadata": {},
   "outputs": [],
   "source": [
    "pred_randfore = randfore.predict(testxcut)"
   ]
  },
  {
   "cell_type": "code",
   "execution_count": 125,
   "id": "90fc3ac0",
   "metadata": {},
   "outputs": [
    {
     "data": {
      "text/plain": [
       "0.8103112840466926"
      ]
     },
     "execution_count": 125,
     "metadata": {},
     "output_type": "execute_result"
    }
   ],
   "source": [
    "accuracy_score(testycut,pred_logsi)"
   ]
  },
  {
   "cell_type": "code",
   "execution_count": 126,
   "id": "ccf086c4",
   "metadata": {},
   "outputs": [
    {
     "data": {
      "text/plain": [
       "0.7470817120622568"
      ]
     },
     "execution_count": 126,
     "metadata": {},
     "output_type": "execute_result"
    }
   ],
   "source": [
    "accuracy_score(testycut,pred_dectree)"
   ]
  },
  {
   "cell_type": "code",
   "execution_count": 127,
   "id": "cb64adf6",
   "metadata": {},
   "outputs": [
    {
     "data": {
      "text/plain": [
       "0.8171206225680934"
      ]
     },
     "execution_count": 127,
     "metadata": {},
     "output_type": "execute_result"
    }
   ],
   "source": [
    "accuracy_score(testycut,pred_randfore)"
   ]
  },
  {
   "cell_type": "code",
   "execution_count": null,
   "id": "e9359de3",
   "metadata": {},
   "outputs": [],
   "source": []
  }
 ],
 "metadata": {
  "kernelspec": {
   "display_name": "Python 3",
   "language": "python",
   "name": "python3"
  },
  "language_info": {
   "codemirror_mode": {
    "name": "ipython",
    "version": 3
   },
   "file_extension": ".py",
   "mimetype": "text/x-python",
   "name": "python",
   "nbconvert_exporter": "python",
   "pygments_lexer": "ipython3",
   "version": "3.7.6"
  }
 },
 "nbformat": 4,
 "nbformat_minor": 5
}
