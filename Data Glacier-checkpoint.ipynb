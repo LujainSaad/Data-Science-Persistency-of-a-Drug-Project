{
 "cells": [
  {
   "cell_type": "code",
   "execution_count": null,
   "id": "861784ad",
   "metadata": {},
   "outputs": [],
   "source": [
    "#Import necessary modules\n",
    "import pandas as pd\n",
    "import numpy as np\n",
    "import matplotlib.pyplot as plt\n",
    "import seaborn as sns"
   ]
  },
  {
   "cell_type": "code",
   "execution_count": null,
   "id": "9c9b529c",
   "metadata": {},
   "outputs": [],
   "source": [
    "#Load dataset as a pandas data frame.\n",
    "df_healthcare = pd.read_csv(\"Healthcare_Dataset.csv\", sep=\",\")"
   ]
  },
  {
   "cell_type": "code",
   "execution_count": null,
   "id": "587919f6",
   "metadata": {},
   "outputs": [],
   "source": [
    "df_healthcare.head()"
   ]
  },
  {
   "cell_type": "code",
   "execution_count": null,
   "id": "e910447a",
   "metadata": {},
   "outputs": [],
   "source": [
    "df_healthcare.head()"
   ]
  },
  {
   "cell_type": "code",
   "execution_count": null,
   "id": "cebb432f",
   "metadata": {},
   "outputs": [],
   "source": [
    "#Check for null values across columns\n",
    "df_healthcare.info()"
   ]
  },
  {
   "cell_type": "code",
   "execution_count": null,
   "id": "b3a0b80e",
   "metadata": {},
   "outputs": [],
   "source": [
    "df_healthcare.Race.unique()"
   ]
  },
  {
   "cell_type": "code",
   "execution_count": null,
   "id": "ab0ce39d",
   "metadata": {},
   "outputs": [],
   "source": [
    "#Print out the unique values for each column in the dataset.\n",
    "#We can see that the columns do not have values that are incorrectly measured.\n",
    "for i in df_healthcare.columns:\n",
    "    print(i, \":\", df_healthcare[i].unique())"
   ]
  },
  {
   "cell_type": "code",
   "execution_count": null,
   "id": "a6190568",
   "metadata": {},
   "outputs": [],
   "source": [
    "df_healthcare.Dexa_During_Rx.unique()[0]"
   ]
  },
  {
   "cell_type": "code",
   "execution_count": null,
   "id": "2e857973",
   "metadata": {},
   "outputs": [],
   "source": [
    "for i in df_healthcare.columns:\n",
    "    if(df_healthcare[i].unique().shape[0] ==2):\n",
    "        df_healthcare[i] = df_healthcare[i].map({df_healthcare[i].unique()[0]:0, df_healthcare[i].unique()[1]:1})  "
   ]
  },
  {
   "cell_type": "code",
   "execution_count": null,
   "id": "016154fe",
   "metadata": {},
   "outputs": [],
   "source": [
    "for i in df_healthcare.columns:\n",
    "    print(i, \":\", df_healthcare[i].unique())"
   ]
  },
  {
   "cell_type": "code",
   "execution_count": null,
   "id": "40d5f01d",
   "metadata": {},
   "outputs": [],
   "source": [
    "#Determines if there are null values in the dataset. There are none. \n",
    "df_healthcare.info()"
   ]
  },
  {
   "cell_type": "code",
   "execution_count": null,
   "id": "9177abba",
   "metadata": {},
   "outputs": [],
   "source": [
    "df_healthcare.tail()"
   ]
  },
  {
   "cell_type": "code",
   "execution_count": null,
   "id": "dc960638",
   "metadata": {},
   "outputs": [],
   "source": [
    "#Count of Risks vs Persistency Flag\n",
    "\n",
    "plt.figure(figsize=(25,6))\n",
    "sns.countplot(x='Count_Of_Risks', data=df_healthcare, hue=\"Persistency_Flag\")\n",
    "plt.title('Count of Risks vs Persistency_Flag')\n",
    "plt.xlabel('Amount of Risks')\n",
    "plt.ylabel('Count')\n",
    "plt.show()"
   ]
  },
  {
   "cell_type": "code",
   "execution_count": null,
   "id": "a3a72d24",
   "metadata": {},
   "outputs": [],
   "source": [
    "#Count of Risks vs Race\n",
    "\n",
    "plt.figure(figsize=(25,6))\n",
    "sns.barplot(x='Ethnicity',y='Count_Of_Risks', data=df_healthcare, hue=\"Persistency_Flag\")\n",
    "plt.title('Count of Risks vs Ethnicity')\n",
    "plt.xlabel('Ethnicity')\n",
    "plt.ylabel('Count of Risks')\n",
    "plt.show()"
   ]
  },
  {
   "cell_type": "code",
   "execution_count": null,
   "id": "2d9fd097",
   "metadata": {
    "scrolled": true
   },
   "outputs": [],
   "source": [
    "#Count of Risks vs Race\n",
    "plt.figure(figsize=(25,6))\n",
    "sns.barplot(x='Age_Bucket',y='Count_Of_Risks', data=df_healthcare, hue=\"Persistency_Flag\")\n",
    "plt.title('Count of Risks vs Age Range')\n",
    "plt.xlabel('Age Range')\n",
    "plt.ylabel('Count of Risks')\n",
    "plt.show()"
   ]
  },
  {
   "cell_type": "code",
   "execution_count": null,
   "id": "1bfb3d36",
   "metadata": {},
   "outputs": [],
   "source": [
    "#Count of Risks vs Race\n",
    "plt.figure(figsize=(25,6))\n",
    "sns.catplot(x='Age_Bucket',y='Count_Of_Risks', data=df_healthcare, hue=\"Persistency_Flag\")\n",
    "plt.title('Count of Risks vs Age Range')\n",
    "plt.xlabel('Age Range')\n",
    "plt.ylabel('Count of Risks')\n",
    "plt.show()"
   ]
  }
 ],
 "metadata": {
  "kernelspec": {
   "display_name": "Python 3 (ipykernel)",
   "language": "python",
   "name": "python3"
  },
  "language_info": {
   "codemirror_mode": {
    "name": "ipython",
    "version": 3
   },
   "file_extension": ".py",
   "mimetype": "text/x-python",
   "name": "python",
   "nbconvert_exporter": "python",
   "pygments_lexer": "ipython3",
   "version": "3.10.7"
  }
 },
 "nbformat": 4,
 "nbformat_minor": 5
}
